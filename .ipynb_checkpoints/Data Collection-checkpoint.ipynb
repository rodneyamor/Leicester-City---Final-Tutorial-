{
 "cells": [
  {
   "cell_type": "markdown",
   "metadata": {},
   "source": [
    "# Leicester Miracle\n",
    "\n",
    "## 1. Introduction\n",
    "\n",
    "The English Premier League (EPL) is the highest level of the English football league system. Founded in 1992, the EPL quickly surged to become the most popular and the most commercially successful football league in the world. The league consists of 20 teams who compete for the league title and avoid being relegated to the second level of English football.\n",
    "\n",
    "The league boasts itself as the most competitive league in the world where any team can beat anyone. While only 6 teams, Manchester United, Manchester City, Chelsea, Arsenal, Tottenham Spurs, and Liverpool can consistently finish in the top positions, that premise still holds.\n",
    "\n",
    "Leicester City's win of the English Premier League in the 2015/16 season is one of the most remarkable events of sports history. It is one of those rare and shocking sports events where a team wins a game or a trophy even when the odds are overwhelmingly against them. In Leicester's case, they were given a 5000-to-1 chance of becoming the league champions. Their victory is even more impressive when the fact that only 5 teams have been named champions since the league's founding in 1992. Four of those teams, Manchester United, Manchester City, Chelsea, and Arsenal significantly outspend Leicester on payroll and transfers. Leicester has only about a quarter of the financial resources compared to those teams. \n",
    "\n",
    "In this tutorial, we will look at the factors that led to Leicester's league title. Did they have an unstoppable attacking, a creative midfield, or an unbreakable defense? What kind of tactic did they use? Were they aggressive? Is Leicester's title win due to years of progression or was it really a special event? Are they on the rise to be one of the top teams? We will gather football data to determine the team's performance and where they excelled at.  "
   ]
  },
  {
   "cell_type": "markdown",
   "metadata": {},
   "source": [
    "## 2. Getting Started\n",
    "\n",
    "Below are the libraries that we will be using"
   ]
  },
  {
   "cell_type": "code",
   "execution_count": 1,
   "metadata": {},
   "outputs": [],
   "source": [
    "import requests\n",
    "import numpy as np\n",
    "from bs4 import BeautifulSoup\n",
    "import pandas as pd\n",
    "import matplotlib.pyplot as plt\n",
    "\n",
    "#Things to talk about\n",
    "#Goals scored/game, Goals conceded/game, possesion, clean sheets, shots, shots on target\n",
    "#https://en.wikipedia.org/wiki/List_of_Leicester_City_F.C._seasons\n",
    "#Is this a one time thing or is Leicester destined for greatness?\n",
    "#Could they win the league this season?\n"
   ]
  },
  {
   "cell_type": "markdown",
   "metadata": {},
   "source": [
    "## 3. Collecting and Tidying Up Data\n",
    "\n",
    "We will be scraping our data from various sources since most sources only cover a portion of what we need. For example, we will scrape one source for attacking data and another for defensive data as shown in the cell below.\n",
    "\n",
    "In order to organize our data, we will have different dataframes for each portion of the data. Thankfully, our data is already organized since we are already scrapping different websites for each portion of what we need. Each website will have its own dataframe. "
   ]
  },
  {
   "cell_type": "markdown",
   "metadata": {},
   "source": [
    "### 3a. League Data\n",
    "\n",
    "As we can see from the table below, it contains lots NaN data. This is because of the way the table on the website was setup which caused extra columns of NaN to be created when we scraped the website. Which means that no data was missing. Also, the first two rows appears to contain the names of the respective columns. The most important data that this dataframe contains is team, win, draws, defeats, home wins, away wins, goals scored, goals conceded, goal difference, and league points."
   ]
  },
  {
   "cell_type": "code",
   "execution_count": 2,
   "metadata": {},
   "outputs": [
    {
     "data": {
      "text/html": [
       "<div>\n",
       "<style scoped>\n",
       "    .dataframe tbody tr th:only-of-type {\n",
       "        vertical-align: middle;\n",
       "    }\n",
       "\n",
       "    .dataframe tbody tr th {\n",
       "        vertical-align: top;\n",
       "    }\n",
       "\n",
       "    .dataframe thead th {\n",
       "        text-align: right;\n",
       "    }\n",
       "</style>\n",
       "<table border=\"1\" class=\"dataframe\">\n",
       "  <thead>\n",
       "    <tr style=\"text-align: right;\">\n",
       "      <th></th>\n",
       "      <th>0</th>\n",
       "      <th>1</th>\n",
       "      <th>2</th>\n",
       "      <th>3</th>\n",
       "      <th>4</th>\n",
       "      <th>5</th>\n",
       "      <th>6</th>\n",
       "      <th>7</th>\n",
       "      <th>8</th>\n",
       "      <th>9</th>\n",
       "      <th>...</th>\n",
       "      <th>14</th>\n",
       "      <th>15</th>\n",
       "      <th>16</th>\n",
       "      <th>17</th>\n",
       "      <th>18</th>\n",
       "      <th>19</th>\n",
       "      <th>20</th>\n",
       "      <th>21</th>\n",
       "      <th>22</th>\n",
       "      <th>23</th>\n",
       "    </tr>\n",
       "  </thead>\n",
       "  <tbody>\n",
       "    <tr>\n",
       "      <th>0</th>\n",
       "      <td>NaN</td>\n",
       "      <td>NaN</td>\n",
       "      <td>NaN</td>\n",
       "      <td>NaN</td>\n",
       "      <td>Home</td>\n",
       "      <td>Home</td>\n",
       "      <td>Home</td>\n",
       "      <td>Home</td>\n",
       "      <td>Home</td>\n",
       "      <td>NaN</td>\n",
       "      <td>...</td>\n",
       "      <td>Away</td>\n",
       "      <td>NaN</td>\n",
       "      <td>Overall</td>\n",
       "      <td>Overall</td>\n",
       "      <td>Overall</td>\n",
       "      <td>Overall</td>\n",
       "      <td>Overall</td>\n",
       "      <td>NaN</td>\n",
       "      <td>NaN</td>\n",
       "      <td>NaN</td>\n",
       "    </tr>\n",
       "    <tr>\n",
       "      <th>1</th>\n",
       "      <td>NaN</td>\n",
       "      <td>Team</td>\n",
       "      <td>P</td>\n",
       "      <td>NaN</td>\n",
       "      <td>W</td>\n",
       "      <td>D</td>\n",
       "      <td>L</td>\n",
       "      <td>F</td>\n",
       "      <td>A</td>\n",
       "      <td>NaN</td>\n",
       "      <td>...</td>\n",
       "      <td>A</td>\n",
       "      <td>NaN</td>\n",
       "      <td>W</td>\n",
       "      <td>D</td>\n",
       "      <td>L</td>\n",
       "      <td>F</td>\n",
       "      <td>A</td>\n",
       "      <td>NaN</td>\n",
       "      <td>GD</td>\n",
       "      <td>PTS  PT</td>\n",
       "    </tr>\n",
       "    <tr>\n",
       "      <th>2</th>\n",
       "      <td>C</td>\n",
       "      <td>Leicester City  Leicester</td>\n",
       "      <td>38</td>\n",
       "      <td>NaN</td>\n",
       "      <td>12</td>\n",
       "      <td>6</td>\n",
       "      <td>1</td>\n",
       "      <td>35</td>\n",
       "      <td>18</td>\n",
       "      <td>NaN</td>\n",
       "      <td>...</td>\n",
       "      <td>18</td>\n",
       "      <td>NaN</td>\n",
       "      <td>23</td>\n",
       "      <td>12</td>\n",
       "      <td>3</td>\n",
       "      <td>68</td>\n",
       "      <td>36</td>\n",
       "      <td>NaN</td>\n",
       "      <td>32</td>\n",
       "      <td>81</td>\n",
       "    </tr>\n",
       "    <tr>\n",
       "      <th>3</th>\n",
       "      <td>2</td>\n",
       "      <td>Arsenal</td>\n",
       "      <td>38</td>\n",
       "      <td>NaN</td>\n",
       "      <td>12</td>\n",
       "      <td>4</td>\n",
       "      <td>3</td>\n",
       "      <td>31</td>\n",
       "      <td>11</td>\n",
       "      <td>NaN</td>\n",
       "      <td>...</td>\n",
       "      <td>25</td>\n",
       "      <td>NaN</td>\n",
       "      <td>20</td>\n",
       "      <td>11</td>\n",
       "      <td>7</td>\n",
       "      <td>65</td>\n",
       "      <td>36</td>\n",
       "      <td>NaN</td>\n",
       "      <td>29</td>\n",
       "      <td>71</td>\n",
       "    </tr>\n",
       "    <tr>\n",
       "      <th>4</th>\n",
       "      <td>3</td>\n",
       "      <td>Tottenham Hotspur  Spurs</td>\n",
       "      <td>38</td>\n",
       "      <td>NaN</td>\n",
       "      <td>10</td>\n",
       "      <td>6</td>\n",
       "      <td>3</td>\n",
       "      <td>35</td>\n",
       "      <td>15</td>\n",
       "      <td>NaN</td>\n",
       "      <td>...</td>\n",
       "      <td>20</td>\n",
       "      <td>NaN</td>\n",
       "      <td>19</td>\n",
       "      <td>13</td>\n",
       "      <td>6</td>\n",
       "      <td>69</td>\n",
       "      <td>35</td>\n",
       "      <td>NaN</td>\n",
       "      <td>34</td>\n",
       "      <td>70</td>\n",
       "    </tr>\n",
       "  </tbody>\n",
       "</table>\n",
       "<p>5 rows × 24 columns</p>\n",
       "</div>"
      ],
      "text/plain": [
       "    0                          1    2   3     4     5     6     7     8   9   \\\n",
       "0  NaN                        NaN  NaN NaN  Home  Home  Home  Home  Home NaN   \n",
       "1  NaN                       Team    P NaN     W     D     L     F     A NaN   \n",
       "2    C  Leicester City  Leicester   38 NaN    12     6     1    35    18 NaN   \n",
       "3    2                    Arsenal   38 NaN    12     4     3    31    11 NaN   \n",
       "4    3   Tottenham Hotspur  Spurs   38 NaN    10     6     3    35    15 NaN   \n",
       "\n",
       "   ...    14  15       16       17       18       19       20  21   22  \\\n",
       "0  ...  Away NaN  Overall  Overall  Overall  Overall  Overall NaN  NaN   \n",
       "1  ...     A NaN        W        D        L        F        A NaN   GD   \n",
       "2  ...    18 NaN       23       12        3       68       36 NaN   32   \n",
       "3  ...    25 NaN       20       11        7       65       36 NaN   29   \n",
       "4  ...    20 NaN       19       13        6       69       35 NaN   34   \n",
       "\n",
       "        23  \n",
       "0      NaN  \n",
       "1  PTS  PT  \n",
       "2       81  \n",
       "3       71  \n",
       "4       70  \n",
       "\n",
       "[5 rows x 24 columns]"
      ]
     },
     "execution_count": 2,
     "metadata": {},
     "output_type": "execute_result"
    }
   ],
   "source": [
    "#W/D/L Home, Away, and Overall\n",
    "url = 'https://www.sportsmole.co.uk/football/premier-league/2015-16//table.html'\n",
    "r = requests.get(url, headers={'User-Agent': 'Mozilla/5.0 (Macintosh; Intel Mac OS X x.y; rv:42.0) Gecko/20100101 Firefox/42.0'})\n",
    "league_data = BeautifulSoup(r.content).find('table')\n",
    "league_table = pd.read_html(league_data.prettify())\n",
    "league_df = pd.DataFrame(league_table[0])\n",
    "league_df.head()"
   ]
  },
  {
   "cell_type": "markdown",
   "metadata": {},
   "source": [
    "Here we will get rid of the first two rows. The resulting table has column names which are numbers which is not very helpful. We will have to rename these."
   ]
  },
  {
   "cell_type": "code",
   "execution_count": 3,
   "metadata": {},
   "outputs": [
    {
     "data": {
      "text/html": [
       "<div>\n",
       "<style scoped>\n",
       "    .dataframe tbody tr th:only-of-type {\n",
       "        vertical-align: middle;\n",
       "    }\n",
       "\n",
       "    .dataframe tbody tr th {\n",
       "        vertical-align: top;\n",
       "    }\n",
       "\n",
       "    .dataframe thead th {\n",
       "        text-align: right;\n",
       "    }\n",
       "</style>\n",
       "<table border=\"1\" class=\"dataframe\">\n",
       "  <thead>\n",
       "    <tr style=\"text-align: right;\">\n",
       "      <th></th>\n",
       "      <th>Position</th>\n",
       "      <th>Team</th>\n",
       "      <th>Away wins</th>\n",
       "      <th>Total wins</th>\n",
       "      <th>Total draws</th>\n",
       "      <th>Total defeats</th>\n",
       "      <th>Total goals scored</th>\n",
       "      <th>Total goals conceded</th>\n",
       "      <th>Goal Difference</th>\n",
       "      <th>Points</th>\n",
       "    </tr>\n",
       "  </thead>\n",
       "  <tbody>\n",
       "    <tr>\n",
       "      <th>0</th>\n",
       "      <td>C</td>\n",
       "      <td>Leicester City  Leicester</td>\n",
       "      <td>11</td>\n",
       "      <td>23</td>\n",
       "      <td>12</td>\n",
       "      <td>3</td>\n",
       "      <td>68</td>\n",
       "      <td>36</td>\n",
       "      <td>32</td>\n",
       "      <td>81</td>\n",
       "    </tr>\n",
       "    <tr>\n",
       "      <th>1</th>\n",
       "      <td>2</td>\n",
       "      <td>Arsenal</td>\n",
       "      <td>8</td>\n",
       "      <td>20</td>\n",
       "      <td>11</td>\n",
       "      <td>7</td>\n",
       "      <td>65</td>\n",
       "      <td>36</td>\n",
       "      <td>29</td>\n",
       "      <td>71</td>\n",
       "    </tr>\n",
       "    <tr>\n",
       "      <th>2</th>\n",
       "      <td>3</td>\n",
       "      <td>Tottenham Hotspur  Spurs</td>\n",
       "      <td>9</td>\n",
       "      <td>19</td>\n",
       "      <td>13</td>\n",
       "      <td>6</td>\n",
       "      <td>69</td>\n",
       "      <td>35</td>\n",
       "      <td>34</td>\n",
       "      <td>70</td>\n",
       "    </tr>\n",
       "    <tr>\n",
       "      <th>3</th>\n",
       "      <td>4</td>\n",
       "      <td>Manchester City  Man City</td>\n",
       "      <td>7</td>\n",
       "      <td>19</td>\n",
       "      <td>9</td>\n",
       "      <td>10</td>\n",
       "      <td>71</td>\n",
       "      <td>41</td>\n",
       "      <td>30</td>\n",
       "      <td>66</td>\n",
       "    </tr>\n",
       "    <tr>\n",
       "      <th>4</th>\n",
       "      <td>5</td>\n",
       "      <td>Manchester United  Man Utd</td>\n",
       "      <td>7</td>\n",
       "      <td>19</td>\n",
       "      <td>9</td>\n",
       "      <td>10</td>\n",
       "      <td>49</td>\n",
       "      <td>35</td>\n",
       "      <td>14</td>\n",
       "      <td>66</td>\n",
       "    </tr>\n",
       "  </tbody>\n",
       "</table>\n",
       "</div>"
      ],
      "text/plain": [
       "  Position                        Team Away wins Total wins Total draws  \\\n",
       "0        C   Leicester City  Leicester        11         23          12   \n",
       "1        2                     Arsenal         8         20          11   \n",
       "2        3    Tottenham Hotspur  Spurs         9         19          13   \n",
       "3        4   Manchester City  Man City         7         19           9   \n",
       "4        5  Manchester United  Man Utd         7         19           9   \n",
       "\n",
       "  Total defeats Total goals scored Total goals conceded Goal Difference Points  \n",
       "0             3                 68                   36              32     81  \n",
       "1             7                 65                   36              29     71  \n",
       "2             6                 69                   35              34     70  \n",
       "3            10                 71                   41              30     66  \n",
       "4            10                 49                   35              14     66  "
      ]
     },
     "execution_count": 3,
     "metadata": {},
     "output_type": "execute_result"
    }
   ],
   "source": [
    "#Tidying up data\n",
    "league_df = league_df.drop([0, 1])\n",
    "league_df = league_df.reset_index(drop=True)\n",
    "league_df = league_df.dropna(how='all', axis=1)\n",
    "\n",
    "#The columns are\n",
    "#Position, Team, Games played, \n",
    "#Home wins, Home draws, Home defeats, Home goals scored, Home goals conceded,\n",
    "#Away wins, Away draws, Away defeats, Away goals scored, Away goals conceded,\n",
    "#Total wins, Total draws, Total defeats, Total goals scored, Total goals conceded,\n",
    "#Goal difference, Points\n",
    "league_df = league_df.rename(columns={0: 'Position', 1: 'Team', 2: 'Games played', \\\n",
    "                                      4: 'Home wins', 5: 'Home draws', 6: 'Home defeats', 7: 'Home goals scored', 8: 'Home goals conceded', \\\n",
    "                                      10: 'Away wins', 11: 'Away draws', 12: 'Away defeats', 13: 'Away goals scored', 14: 'Away goals conceded', \\\n",
    "                                     16: 'Total wins', 17: 'Total draws', 18: 'Total defeats', 19: 'Total goals scored', 20: 'Total goals conceded', \\\n",
    "                                     22: 'Goal Difference', 23: 'Points'})\n",
    "\n",
    "league_df = league_df.drop(columns=['Games played', 'Home wins', 'Home draws', 'Home defeats', 'Home goals scored', 'Home goals conceded',\\\n",
    "                                   'Home wins', 'Away draws', 'Away defeats', 'Away goals scored', 'Away goals conceded'])\n",
    "league_df.head()\n"
   ]
  },
  {
   "cell_type": "markdown",
   "metadata": {},
   "source": [
    "### 3b. Possession Data\n",
    "\n",
    "Like the table above, the table below also contains lots of NaN data. This is because the table from the website contains lots of missing data which we don't need. We only want the possesion percentages. Also, the first 20 rows are completely redundant."
   ]
  },
  {
   "cell_type": "code",
   "execution_count": 4,
   "metadata": {},
   "outputs": [
    {
     "data": {
      "text/html": [
       "<div>\n",
       "<style scoped>\n",
       "    .dataframe tbody tr th:only-of-type {\n",
       "        vertical-align: middle;\n",
       "    }\n",
       "\n",
       "    .dataframe tbody tr th {\n",
       "        vertical-align: top;\n",
       "    }\n",
       "\n",
       "    .dataframe thead tr th {\n",
       "        text-align: left;\n",
       "    }\n",
       "</style>\n",
       "<table border=\"1\" class=\"dataframe\">\n",
       "  <thead>\n",
       "    <tr>\n",
       "      <th></th>\n",
       "      <th>Unnamed: 0_level_0</th>\n",
       "      <th>Unnamed: 1_level_0</th>\n",
       "      <th>Unnamed: 2_level_0</th>\n",
       "      <th>Unnamed: 3_level_0</th>\n",
       "      <th colspan=\"6\" halign=\"left\">Touches</th>\n",
       "      <th>...</th>\n",
       "      <th colspan=\"2\" halign=\"left\">Dribbles</th>\n",
       "      <th colspan=\"3\" halign=\"left\">Carries</th>\n",
       "      <th colspan=\"3\" halign=\"left\">Receiving</th>\n",
       "      <th>Unnamed: 22_level_0</th>\n",
       "      <th>Unnamed: 23_level_0</th>\n",
       "    </tr>\n",
       "    <tr>\n",
       "      <th></th>\n",
       "      <th>Squad</th>\n",
       "      <th># Pl</th>\n",
       "      <th>Poss</th>\n",
       "      <th>90s</th>\n",
       "      <th>Touches</th>\n",
       "      <th>Def Pen</th>\n",
       "      <th>Def 3rd</th>\n",
       "      <th>Mid 3rd</th>\n",
       "      <th>Att 3rd</th>\n",
       "      <th>Att Pen</th>\n",
       "      <th>...</th>\n",
       "      <th>#Pl</th>\n",
       "      <th>Megs</th>\n",
       "      <th>Carries</th>\n",
       "      <th>TotDist</th>\n",
       "      <th>PrgDist</th>\n",
       "      <th>Targ</th>\n",
       "      <th>Rec</th>\n",
       "      <th>Rec%</th>\n",
       "      <th>Miscon</th>\n",
       "      <th>Dispos</th>\n",
       "    </tr>\n",
       "  </thead>\n",
       "  <tbody>\n",
       "    <tr>\n",
       "      <th>0</th>\n",
       "      <td>vs Arsenal</td>\n",
       "      <td>25</td>\n",
       "      <td>41.7</td>\n",
       "      <td>38.0</td>\n",
       "      <td>NaN</td>\n",
       "      <td>NaN</td>\n",
       "      <td>NaN</td>\n",
       "      <td>NaN</td>\n",
       "      <td>NaN</td>\n",
       "      <td>NaN</td>\n",
       "      <td>...</td>\n",
       "      <td>NaN</td>\n",
       "      <td>NaN</td>\n",
       "      <td>NaN</td>\n",
       "      <td>NaN</td>\n",
       "      <td>NaN</td>\n",
       "      <td>NaN</td>\n",
       "      <td>NaN</td>\n",
       "      <td>NaN</td>\n",
       "      <td>NaN</td>\n",
       "      <td>NaN</td>\n",
       "    </tr>\n",
       "    <tr>\n",
       "      <th>1</th>\n",
       "      <td>vs Aston Villa</td>\n",
       "      <td>29</td>\n",
       "      <td>53.6</td>\n",
       "      <td>38.0</td>\n",
       "      <td>NaN</td>\n",
       "      <td>NaN</td>\n",
       "      <td>NaN</td>\n",
       "      <td>NaN</td>\n",
       "      <td>NaN</td>\n",
       "      <td>NaN</td>\n",
       "      <td>...</td>\n",
       "      <td>NaN</td>\n",
       "      <td>NaN</td>\n",
       "      <td>NaN</td>\n",
       "      <td>NaN</td>\n",
       "      <td>NaN</td>\n",
       "      <td>NaN</td>\n",
       "      <td>NaN</td>\n",
       "      <td>NaN</td>\n",
       "      <td>NaN</td>\n",
       "      <td>NaN</td>\n",
       "    </tr>\n",
       "    <tr>\n",
       "      <th>2</th>\n",
       "      <td>vs Bournemouth</td>\n",
       "      <td>28</td>\n",
       "      <td>48.8</td>\n",
       "      <td>38.0</td>\n",
       "      <td>NaN</td>\n",
       "      <td>NaN</td>\n",
       "      <td>NaN</td>\n",
       "      <td>NaN</td>\n",
       "      <td>NaN</td>\n",
       "      <td>NaN</td>\n",
       "      <td>...</td>\n",
       "      <td>NaN</td>\n",
       "      <td>NaN</td>\n",
       "      <td>NaN</td>\n",
       "      <td>NaN</td>\n",
       "      <td>NaN</td>\n",
       "      <td>NaN</td>\n",
       "      <td>NaN</td>\n",
       "      <td>NaN</td>\n",
       "      <td>NaN</td>\n",
       "      <td>NaN</td>\n",
       "    </tr>\n",
       "    <tr>\n",
       "      <th>3</th>\n",
       "      <td>vs Chelsea</td>\n",
       "      <td>28</td>\n",
       "      <td>43.8</td>\n",
       "      <td>38.0</td>\n",
       "      <td>NaN</td>\n",
       "      <td>NaN</td>\n",
       "      <td>NaN</td>\n",
       "      <td>NaN</td>\n",
       "      <td>NaN</td>\n",
       "      <td>NaN</td>\n",
       "      <td>...</td>\n",
       "      <td>NaN</td>\n",
       "      <td>NaN</td>\n",
       "      <td>NaN</td>\n",
       "      <td>NaN</td>\n",
       "      <td>NaN</td>\n",
       "      <td>NaN</td>\n",
       "      <td>NaN</td>\n",
       "      <td>NaN</td>\n",
       "      <td>NaN</td>\n",
       "      <td>NaN</td>\n",
       "    </tr>\n",
       "    <tr>\n",
       "      <th>4</th>\n",
       "      <td>vs Crystal Palace</td>\n",
       "      <td>30</td>\n",
       "      <td>54.2</td>\n",
       "      <td>38.0</td>\n",
       "      <td>NaN</td>\n",
       "      <td>NaN</td>\n",
       "      <td>NaN</td>\n",
       "      <td>NaN</td>\n",
       "      <td>NaN</td>\n",
       "      <td>NaN</td>\n",
       "      <td>...</td>\n",
       "      <td>NaN</td>\n",
       "      <td>NaN</td>\n",
       "      <td>NaN</td>\n",
       "      <td>NaN</td>\n",
       "      <td>NaN</td>\n",
       "      <td>NaN</td>\n",
       "      <td>NaN</td>\n",
       "      <td>NaN</td>\n",
       "      <td>NaN</td>\n",
       "      <td>NaN</td>\n",
       "    </tr>\n",
       "  </tbody>\n",
       "</table>\n",
       "<p>5 rows × 24 columns</p>\n",
       "</div>"
      ],
      "text/plain": [
       "  Unnamed: 0_level_0 Unnamed: 1_level_0 Unnamed: 2_level_0 Unnamed: 3_level_0  \\\n",
       "               Squad               # Pl               Poss                90s   \n",
       "0         vs Arsenal                 25               41.7               38.0   \n",
       "1     vs Aston Villa                 29               53.6               38.0   \n",
       "2     vs Bournemouth                 28               48.8               38.0   \n",
       "3         vs Chelsea                 28               43.8               38.0   \n",
       "4  vs Crystal Palace                 30               54.2               38.0   \n",
       "\n",
       "  Touches                                          ... Dribbles      Carries  \\\n",
       "  Touches Def Pen Def 3rd Mid 3rd Att 3rd Att Pen  ...      #Pl Megs Carries   \n",
       "0     NaN     NaN     NaN     NaN     NaN     NaN  ...      NaN  NaN     NaN   \n",
       "1     NaN     NaN     NaN     NaN     NaN     NaN  ...      NaN  NaN     NaN   \n",
       "2     NaN     NaN     NaN     NaN     NaN     NaN  ...      NaN  NaN     NaN   \n",
       "3     NaN     NaN     NaN     NaN     NaN     NaN  ...      NaN  NaN     NaN   \n",
       "4     NaN     NaN     NaN     NaN     NaN     NaN  ...      NaN  NaN     NaN   \n",
       "\n",
       "                  Receiving          Unnamed: 22_level_0 Unnamed: 23_level_0  \n",
       "  TotDist PrgDist      Targ Rec Rec%              Miscon              Dispos  \n",
       "0     NaN     NaN       NaN NaN  NaN                 NaN                 NaN  \n",
       "1     NaN     NaN       NaN NaN  NaN                 NaN                 NaN  \n",
       "2     NaN     NaN       NaN NaN  NaN                 NaN                 NaN  \n",
       "3     NaN     NaN       NaN NaN  NaN                 NaN                 NaN  \n",
       "4     NaN     NaN       NaN NaN  NaN                 NaN                 NaN  \n",
       "\n",
       "[5 rows x 24 columns]"
      ]
     },
     "execution_count": 4,
     "metadata": {},
     "output_type": "execute_result"
    }
   ],
   "source": [
    "#posession\n",
    "url = 'https://fbref.com/en/comps/9/1467/possession/2015-2016-Premier-League-Stats'\n",
    "r = requests.get(url, headers={'User-Agent': 'Mozilla/5.0 (Macintosh; Intel Mac OS X 10_10_1) AppleWebKit/537.36 (KHTML, like Gecko) Chrome/39.0.2171.95 Safari/537.36'})\n",
    "data = BeautifulSoup(r.content).find('table')\n",
    "table = pd.read_html(data.prettify())\n",
    "possession_df = pd.DataFrame(table[0])\n",
    "possession_df.head()"
   ]
  },
  {
   "cell_type": "markdown",
   "metadata": {},
   "source": [
    "Here we will remove the first 20 rows and all columns with NaN and redundant info."
   ]
  },
  {
   "cell_type": "code",
   "execution_count": 5,
   "metadata": {},
   "outputs": [
    {
     "data": {
      "text/html": [
       "<div>\n",
       "<style scoped>\n",
       "    .dataframe tbody tr th:only-of-type {\n",
       "        vertical-align: middle;\n",
       "    }\n",
       "\n",
       "    .dataframe tbody tr th {\n",
       "        vertical-align: top;\n",
       "    }\n",
       "\n",
       "    .dataframe thead th {\n",
       "        text-align: right;\n",
       "    }\n",
       "</style>\n",
       "<table border=\"1\" class=\"dataframe\">\n",
       "  <thead>\n",
       "    <tr style=\"text-align: right;\">\n",
       "      <th></th>\n",
       "      <th>Team</th>\n",
       "      <th>Poss</th>\n",
       "    </tr>\n",
       "  </thead>\n",
       "  <tbody>\n",
       "    <tr>\n",
       "      <th>0</th>\n",
       "      <td>Arsenal</td>\n",
       "      <td>58.3</td>\n",
       "    </tr>\n",
       "    <tr>\n",
       "      <th>1</th>\n",
       "      <td>Aston Villa</td>\n",
       "      <td>46.4</td>\n",
       "    </tr>\n",
       "    <tr>\n",
       "      <th>2</th>\n",
       "      <td>Bournemouth</td>\n",
       "      <td>51.2</td>\n",
       "    </tr>\n",
       "    <tr>\n",
       "      <th>3</th>\n",
       "      <td>Chelsea</td>\n",
       "      <td>56.2</td>\n",
       "    </tr>\n",
       "    <tr>\n",
       "      <th>4</th>\n",
       "      <td>Crystal Palace</td>\n",
       "      <td>45.8</td>\n",
       "    </tr>\n",
       "  </tbody>\n",
       "</table>\n",
       "</div>"
      ],
      "text/plain": [
       "             Team  Poss\n",
       "0         Arsenal  58.3\n",
       "1     Aston Villa  46.4\n",
       "2     Bournemouth  51.2\n",
       "3         Chelsea  56.2\n",
       "4  Crystal Palace  45.8"
      ]
     },
     "execution_count": 5,
     "metadata": {},
     "output_type": "execute_result"
    }
   ],
   "source": [
    "#removing the first two rows\n",
    "possession_df = possession_df.drop([0, 1])\n",
    "possession_df = possession_df.reset_index(drop=True)\n",
    "possession_df = possession_df.dropna(how='all', axis=1)\n",
    "\n",
    "#removing redundant rows\n",
    "possession_df = possession_df.drop(possession_df.index[0:18])\n",
    "possession_df = possession_df.reset_index(drop=True)\n",
    "\n",
    "#renaming the columns\n",
    "possession_df.columns = possession_df.columns.get_level_values(1)\n",
    "possession_df = possession_df.rename(columns={'Squad': 'Team'})\n",
    "\n",
    "#removing redundany column\n",
    "possession_df = possession_df.drop(columns=['# Pl', '90s'])\n",
    "\n",
    "possession_df.head()"
   ]
  },
  {
   "cell_type": "markdown",
   "metadata": {},
   "source": [
    "### 3c. Defensive Data\n",
    "\n",
    "The table below contains defensive stats. The most important data from this table is clean sheets."
   ]
  },
  {
   "cell_type": "code",
   "execution_count": 6,
   "metadata": {},
   "outputs": [
    {
     "data": {
      "text/html": [
       "<div>\n",
       "<style scoped>\n",
       "    .dataframe tbody tr th:only-of-type {\n",
       "        vertical-align: middle;\n",
       "    }\n",
       "\n",
       "    .dataframe tbody tr th {\n",
       "        vertical-align: top;\n",
       "    }\n",
       "\n",
       "    .dataframe thead th {\n",
       "        text-align: right;\n",
       "    }\n",
       "</style>\n",
       "<table border=\"1\" class=\"dataframe\">\n",
       "  <thead>\n",
       "    <tr style=\"text-align: right;\">\n",
       "      <th></th>\n",
       "      <th>0</th>\n",
       "      <th>1</th>\n",
       "      <th>2</th>\n",
       "      <th>3</th>\n",
       "      <th>4</th>\n",
       "    </tr>\n",
       "  </thead>\n",
       "  <tbody>\n",
       "    <tr>\n",
       "      <th>0</th>\n",
       "      <td>NaN</td>\n",
       "      <td>Team</td>\n",
       "      <td>Goals against</td>\n",
       "      <td>Avg per game</td>\n",
       "      <td>Clean Sheets</td>\n",
       "    </tr>\n",
       "    <tr>\n",
       "      <th>1</th>\n",
       "      <td>1.0</td>\n",
       "      <td>Manchester United</td>\n",
       "      <td>35</td>\n",
       "      <td>0.92</td>\n",
       "      <td>18</td>\n",
       "    </tr>\n",
       "    <tr>\n",
       "      <th>2</th>\n",
       "      <td>2.0</td>\n",
       "      <td>Tottenham Hotspur</td>\n",
       "      <td>35</td>\n",
       "      <td>0.92</td>\n",
       "      <td>13</td>\n",
       "    </tr>\n",
       "    <tr>\n",
       "      <th>3</th>\n",
       "      <td>3.0</td>\n",
       "      <td>Arsenal</td>\n",
       "      <td>36</td>\n",
       "      <td>0.95</td>\n",
       "      <td>18</td>\n",
       "    </tr>\n",
       "    <tr>\n",
       "      <th>4</th>\n",
       "      <td>4.0</td>\n",
       "      <td>Leicester City</td>\n",
       "      <td>36</td>\n",
       "      <td>0.95</td>\n",
       "      <td>15</td>\n",
       "    </tr>\n",
       "  </tbody>\n",
       "</table>\n",
       "</div>"
      ],
      "text/plain": [
       "     0                  1              2             3             4\n",
       "0  NaN               Team  Goals against  Avg per game  Clean Sheets\n",
       "1  1.0  Manchester United             35          0.92            18\n",
       "2  2.0  Tottenham Hotspur             35          0.92            13\n",
       "3  3.0            Arsenal             36          0.95            18\n",
       "4  4.0     Leicester City             36          0.95            15"
      ]
     },
     "execution_count": 6,
     "metadata": {},
     "output_type": "execute_result"
    }
   ],
   "source": [
    "#Defensive stats\n",
    "#Goal against, goal against / game, clean sheets\n",
    "url = 'https://www.sportsmole.co.uk/football/premier-league/2015-16/best-defence.html'\n",
    "r = requests.get(url, headers={'User-Agent': 'Mozilla/5.0 (Macintosh; Intel Mac OS X 10_10_1) AppleWebKit/537.36 (KHTML, like Gecko) Chrome/39.0.2171.95 Safari/537.36'})\n",
    "defensive_data = BeautifulSoup(r.content).find('table')\n",
    "defensive_table = pd.read_html(defensive_data.prettify())\n",
    "defensive_df = pd.DataFrame(defensive_table[0])\n",
    "defensive_df.head()"
   ]
  },
  {
   "cell_type": "markdown",
   "metadata": {},
   "source": [
    "As we can see from this table, the first row is contains the name of the columns while the column names themeselves are numbers. We will have to rename the columns and remove the first row."
   ]
  },
  {
   "cell_type": "code",
   "execution_count": 7,
   "metadata": {},
   "outputs": [
    {
     "data": {
      "text/html": [
       "<div>\n",
       "<style scoped>\n",
       "    .dataframe tbody tr th:only-of-type {\n",
       "        vertical-align: middle;\n",
       "    }\n",
       "\n",
       "    .dataframe tbody tr th {\n",
       "        vertical-align: top;\n",
       "    }\n",
       "\n",
       "    .dataframe thead th {\n",
       "        text-align: right;\n",
       "    }\n",
       "</style>\n",
       "<table border=\"1\" class=\"dataframe\">\n",
       "  <thead>\n",
       "    <tr style=\"text-align: right;\">\n",
       "      <th></th>\n",
       "      <th>Team</th>\n",
       "      <th>Goals against</th>\n",
       "      <th>Goals conceded per game</th>\n",
       "      <th>Clean sheets</th>\n",
       "    </tr>\n",
       "  </thead>\n",
       "  <tbody>\n",
       "    <tr>\n",
       "      <th>0</th>\n",
       "      <td>Manchester United</td>\n",
       "      <td>35</td>\n",
       "      <td>0.92</td>\n",
       "      <td>18</td>\n",
       "    </tr>\n",
       "    <tr>\n",
       "      <th>1</th>\n",
       "      <td>Tottenham Hotspur</td>\n",
       "      <td>35</td>\n",
       "      <td>0.92</td>\n",
       "      <td>13</td>\n",
       "    </tr>\n",
       "    <tr>\n",
       "      <th>2</th>\n",
       "      <td>Arsenal</td>\n",
       "      <td>36</td>\n",
       "      <td>0.95</td>\n",
       "      <td>18</td>\n",
       "    </tr>\n",
       "    <tr>\n",
       "      <th>3</th>\n",
       "      <td>Leicester City</td>\n",
       "      <td>36</td>\n",
       "      <td>0.95</td>\n",
       "      <td>15</td>\n",
       "    </tr>\n",
       "    <tr>\n",
       "      <th>4</th>\n",
       "      <td>Manchester City</td>\n",
       "      <td>41</td>\n",
       "      <td>1.08</td>\n",
       "      <td>16</td>\n",
       "    </tr>\n",
       "  </tbody>\n",
       "</table>\n",
       "</div>"
      ],
      "text/plain": [
       "                Team Goals against Goals conceded per game Clean sheets\n",
       "0  Manchester United            35                    0.92           18\n",
       "1  Tottenham Hotspur            35                    0.92           13\n",
       "2            Arsenal            36                    0.95           18\n",
       "3     Leicester City            36                    0.95           15\n",
       "4    Manchester City            41                    1.08           16"
      ]
     },
     "execution_count": 7,
     "metadata": {},
     "output_type": "execute_result"
    }
   ],
   "source": [
    "#drop first row\n",
    "defensive_df = defensive_df.drop([0])\n",
    "defensive_df = defensive_df.reset_index(drop=True)\n",
    "\n",
    "#renaming the columns\n",
    "defensive_df = defensive_df.drop(columns=[0])\n",
    "defensive_df = defensive_df.rename(columns={1: 'Team', 2: 'Goals against', 3: 'Goals conceded per game', 4: 'Clean sheets'})\n",
    "\n",
    "defensive_df.head()"
   ]
  },
  {
   "cell_type": "markdown",
   "metadata": {},
   "source": [
    "### 3d. Miscellaneous Data\n",
    "\n",
    "The Premier League website contains most the data that we need. However, it is difficult to get the data from the 2015/16 season using simple web scrapping methods since the website doesn't appear to be static. Rather, it appears that the data is loaded from a server which always defaults into the 2020/21 season. Since we already have most of the data we need from website scrapping, we will copy the rest of what we need from the Premier League website into an excel file and convert that into a CSV file. \n",
    "\n",
    "This table contains number of passes, saves, shots, tackles, yellow cards, and red cards."
   ]
  },
  {
   "cell_type": "code",
   "execution_count": 8,
   "metadata": {},
   "outputs": [
    {
     "data": {
      "text/html": [
       "<div>\n",
       "<style scoped>\n",
       "    .dataframe tbody tr th:only-of-type {\n",
       "        vertical-align: middle;\n",
       "    }\n",
       "\n",
       "    .dataframe tbody tr th {\n",
       "        vertical-align: top;\n",
       "    }\n",
       "\n",
       "    .dataframe thead th {\n",
       "        text-align: right;\n",
       "    }\n",
       "</style>\n",
       "<table border=\"1\" class=\"dataframe\">\n",
       "  <thead>\n",
       "    <tr style=\"text-align: right;\">\n",
       "      <th></th>\n",
       "      <th>Team</th>\n",
       "      <th>Passes</th>\n",
       "      <th>Shots</th>\n",
       "      <th>Saves</th>\n",
       "      <th>Tackles</th>\n",
       "      <th>Yellow Cards</th>\n",
       "      <th>Red Cards</th>\n",
       "    </tr>\n",
       "  </thead>\n",
       "  <tbody>\n",
       "    <tr>\n",
       "      <th>0</th>\n",
       "      <td>Arsenal</td>\n",
       "      <td>21,249</td>\n",
       "      <td>571</td>\n",
       "      <td>118</td>\n",
       "      <td>709</td>\n",
       "      <td>40</td>\n",
       "      <td>4</td>\n",
       "    </tr>\n",
       "    <tr>\n",
       "      <th>1</th>\n",
       "      <td>Manchester City</td>\n",
       "      <td>20,488</td>\n",
       "      <td>615</td>\n",
       "      <td>86</td>\n",
       "      <td>729</td>\n",
       "      <td>61</td>\n",
       "      <td>0</td>\n",
       "    </tr>\n",
       "    <tr>\n",
       "      <th>2</th>\n",
       "      <td>Manchester United</td>\n",
       "      <td>20,070</td>\n",
       "      <td>430</td>\n",
       "      <td>90</td>\n",
       "      <td>760</td>\n",
       "      <td>65</td>\n",
       "      <td>1</td>\n",
       "    </tr>\n",
       "    <tr>\n",
       "      <th>3</th>\n",
       "      <td>Liverpool</td>\n",
       "      <td>19,733</td>\n",
       "      <td>629</td>\n",
       "      <td>81</td>\n",
       "      <td>871</td>\n",
       "      <td>61</td>\n",
       "      <td>3</td>\n",
       "    </tr>\n",
       "    <tr>\n",
       "      <th>4</th>\n",
       "      <td>Chelsea</td>\n",
       "      <td>19,664</td>\n",
       "      <td>526</td>\n",
       "      <td>122</td>\n",
       "      <td>790</td>\n",
       "      <td>58</td>\n",
       "      <td>5</td>\n",
       "    </tr>\n",
       "  </tbody>\n",
       "</table>\n",
       "</div>"
      ],
      "text/plain": [
       "                Team  Passes  Shots  Saves  Tackles  Yellow Cards  Red Cards\n",
       "0            Arsenal  21,249    571    118      709            40          4\n",
       "1    Manchester City  20,488    615     86      729            61          0\n",
       "2  Manchester United  20,070    430     90      760            65          1\n",
       "3          Liverpool  19,733    629     81      871            61          3\n",
       "4            Chelsea  19,664    526    122      790            58          5"
      ]
     },
     "execution_count": 8,
     "metadata": {},
     "output_type": "execute_result"
    }
   ],
   "source": [
    "extra_df = pd.read_csv(\"premier_league_stats.csv\") \n",
    "extra_df.head()"
   ]
  },
  {
   "cell_type": "markdown",
   "metadata": {},
   "source": [
    "In order to make graphing easier, we are going to trim away the hundreds, tens, and ones place of the number of passes. "
   ]
  },
  {
   "cell_type": "code",
   "execution_count": 9,
   "metadata": {},
   "outputs": [
    {
     "data": {
      "text/html": [
       "<div>\n",
       "<style scoped>\n",
       "    .dataframe tbody tr th:only-of-type {\n",
       "        vertical-align: middle;\n",
       "    }\n",
       "\n",
       "    .dataframe tbody tr th {\n",
       "        vertical-align: top;\n",
       "    }\n",
       "\n",
       "    .dataframe thead th {\n",
       "        text-align: right;\n",
       "    }\n",
       "</style>\n",
       "<table border=\"1\" class=\"dataframe\">\n",
       "  <thead>\n",
       "    <tr style=\"text-align: right;\">\n",
       "      <th></th>\n",
       "      <th>Team</th>\n",
       "      <th>Passes (in thousands)</th>\n",
       "      <th>Shots</th>\n",
       "      <th>Saves</th>\n",
       "      <th>Tackles</th>\n",
       "      <th>Yellow Cards</th>\n",
       "      <th>Red Cards</th>\n",
       "    </tr>\n",
       "  </thead>\n",
       "  <tbody>\n",
       "    <tr>\n",
       "      <th>0</th>\n",
       "      <td>Arsenal</td>\n",
       "      <td>21</td>\n",
       "      <td>571</td>\n",
       "      <td>118</td>\n",
       "      <td>709</td>\n",
       "      <td>40</td>\n",
       "      <td>4</td>\n",
       "    </tr>\n",
       "    <tr>\n",
       "      <th>1</th>\n",
       "      <td>Manchester City</td>\n",
       "      <td>20</td>\n",
       "      <td>615</td>\n",
       "      <td>86</td>\n",
       "      <td>729</td>\n",
       "      <td>61</td>\n",
       "      <td>0</td>\n",
       "    </tr>\n",
       "    <tr>\n",
       "      <th>2</th>\n",
       "      <td>Manchester United</td>\n",
       "      <td>20</td>\n",
       "      <td>430</td>\n",
       "      <td>90</td>\n",
       "      <td>760</td>\n",
       "      <td>65</td>\n",
       "      <td>1</td>\n",
       "    </tr>\n",
       "    <tr>\n",
       "      <th>3</th>\n",
       "      <td>Liverpool</td>\n",
       "      <td>19</td>\n",
       "      <td>629</td>\n",
       "      <td>81</td>\n",
       "      <td>871</td>\n",
       "      <td>61</td>\n",
       "      <td>3</td>\n",
       "    </tr>\n",
       "    <tr>\n",
       "      <th>4</th>\n",
       "      <td>Chelsea</td>\n",
       "      <td>19</td>\n",
       "      <td>526</td>\n",
       "      <td>122</td>\n",
       "      <td>790</td>\n",
       "      <td>58</td>\n",
       "      <td>5</td>\n",
       "    </tr>\n",
       "  </tbody>\n",
       "</table>\n",
       "</div>"
      ],
      "text/plain": [
       "                Team Passes (in thousands)  Shots  Saves  Tackles  \\\n",
       "0            Arsenal                    21    571    118      709   \n",
       "1    Manchester City                    20    615     86      729   \n",
       "2  Manchester United                    20    430     90      760   \n",
       "3          Liverpool                    19    629     81      871   \n",
       "4            Chelsea                    19    526    122      790   \n",
       "\n",
       "   Yellow Cards  Red Cards  \n",
       "0            40          4  \n",
       "1            61          0  \n",
       "2            65          1  \n",
       "3            61          3  \n",
       "4            58          5  "
      ]
     },
     "execution_count": 9,
     "metadata": {},
     "output_type": "execute_result"
    }
   ],
   "source": [
    "#for removing SettingWithCopyWarning\n",
    "pd.options.mode.chained_assignment = None\n",
    "\n",
    "#simplify the data\n",
    "for index, row in extra_df.iterrows():\n",
    "    extra_df['Passes'][index] = row['Passes'][:2]\n",
    "    \n",
    "extra_df = extra_df.rename(columns={'Passes': 'Passes (in thousands)'})\n",
    "extra_df.head()"
   ]
  },
  {
   "cell_type": "markdown",
   "metadata": {},
   "source": [
    "## 4. Exploratory Analysis and Data Visualization\n",
    "\n",
    "Now we begin analyzing our data. Graphs will be set up so that teams will be on the y-axis so that we can see the full names of the teams. On the x-axis, we will have the specific statistic such as number of goals scored. The x-axis will be in ascending order so the teams on the y-axis will be in different spots. Leicester City will be highlighted as a red dot to make spotting easier\n",
    "\n",
    "### 4a. Attacking Statistics\n",
    "\n",
    "First, we are going to look at Leicester's attacking statistics. We can go in depth here but we only need to look at goals scored and number of shots compared to other teams to determine how good Leicester City's attack was in 2015/16."
   ]
  },
  {
   "cell_type": "code",
   "execution_count": 10,
   "metadata": {},
   "outputs": [
    {
     "data": {
      "image/png": "[encoded data removed]",
      "text/plain": [
       "<Figure size 432x288 with 1 Axes>"
      ]
     },
     "metadata": {
      "needs_background": "light"
     },
     "output_type": "display_data"
    }
   ],
   "source": [
    "#Check number of goals scored\n",
    "fig, ax = plt.subplots()\n",
    "league_df.sort_values(by=['Total goals scored'], inplace=True)\n",
    "ax.scatter(x=league_df['Total goals scored'], y=league_df['Team'])\n",
    "\n",
    "lc = league_df[league_df['Team'] == 'Leicester City  Leicester']\n",
    "\n",
    "ax.scatter(x=lc['Total goals scored'], y=lc['Team'], c='red')\n",
    "plt.title(\"Total Goals Scored and Teams\")\n",
    "plt.xlabel(\"Total Goals Scored\")\n",
    "plt.ylabel(\"Team\")\n",
    "plt.show()"
   ]
  },
  {
   "cell_type": "markdown",
   "metadata": {},
   "source": [
    "As we can see from this graph, Leicester City had the third highest goals scored scoring 68 goals that season. "
   ]
  },
  {
   "cell_type": "code",
   "execution_count": 11,
   "metadata": {},
   "outputs": [
    {
     "data": {
      "image/png": "[encoded data removed]",
      "text/plain": [
       "<Figure size 432x288 with 1 Axes>"
      ]
     },
     "metadata": {
      "needs_background": "light"
     },
     "output_type": "display_data"
    }
   ],
   "source": [
    "#Check number of shots\n",
    "fig, ax = plt.subplots()\n",
    "extra_df.sort_values(by=['Shots'], inplace=True)\n",
    "ax.scatter(x=extra_df['Shots'], y=extra_df['Team'])\n",
    "\n",
    "lc = extra_df[extra_df['Team'] == 'Leicester City']\n",
    "\n",
    "ax.scatter(x=lc['Shots'], y=lc['Team'], c='red')\n",
    "plt.title(\"Total Shots and Teams\")\n",
    "plt.xlabel(\"Shots\")\n",
    "plt.ylabel(\"Team\")\n",
    "plt.show()"
   ]
  },
  {
   "cell_type": "markdown",
   "metadata": {},
   "source": [
    "Leicester City had 522 shots in the 2015/16 season which is the 7th highest. From the two graphs, we can conclude that Leicester City had clinical finishers on the team. In terms of number of shots, they were not in the top 5 yet they were 3rd in the number of goals scored. In other words, they were some of the more efficient teams in terms of number of shots per goal. "
   ]
  },
  {
   "cell_type": "markdown",
   "metadata": {},
   "source": [
    "### 4b. Defensive Statistics\n",
    "\n",
    "Now we're going to look at how good Leicester's defense was."
   ]
  },
  {
   "cell_type": "code",
   "execution_count": 12,
   "metadata": {},
   "outputs": [
    {
     "data": {
      "image/png": "[encoded data removed]",
      "text/plain": [
       "<Figure size 432x288 with 1 Axes>"
      ]
     },
     "metadata": {
      "needs_background": "light"
     },
     "output_type": "display_data"
    }
   ],
   "source": [
    "#Check number of goals conceded\n",
    "fig, ax = plt.subplots()\n",
    "league_df.sort_values(by=['Total goals conceded'], inplace=True)\n",
    "ax.scatter(x=league_df['Total goals conceded'], y=league_df['Team'])\n",
    "\n",
    "lc = league_df[league_df['Team'] == 'Leicester City  Leicester']\n",
    "\n",
    "ax.scatter(x=lc['Total goals conceded'], y=lc['Team'], c='red')\n",
    "plt.title(\"Total Goals Conceded and Teams\")\n",
    "plt.xlabel(\"Total Goals Conceded\")\n",
    "plt.ylabel(\"Team\")\n",
    "plt.show()"
   ]
  },
  {
   "cell_type": "markdown",
   "metadata": {},
   "source": [
    "We can see from the above that Leicester had the third lowest goals conceded only letting 36 goals pass the defense."
   ]
  },
  {
   "cell_type": "code",
   "execution_count": 13,
   "metadata": {},
   "outputs": [
    {
     "data": {
      "image/png": "[encoded data removed]",
      "text/plain": [
       "<Figure size 432x288 with 1 Axes>"
      ]
     },
     "metadata": {
      "needs_background": "light"
     },
     "output_type": "display_data"
    }
   ],
   "source": [
    "fig, ax = plt.subplots()\n",
    "extra_df.sort_values(by=['Saves'], inplace=True)\n",
    "ax.scatter(x=extra_df['Saves'], y=extra_df['Team'])\n",
    "\n",
    "lc = extra_df[extra_df['Team'] == 'Leicester City']\n",
    "\n",
    "ax.scatter(x=lc['Saves'], y=lc['Team'], c='red')\n",
    "plt.title(\"Total Saves and Teams\")\n",
    "plt.xlabel(\"Saves\")\n",
    "plt.ylabel(\"Team\")\n",
    "plt.show()"
   ]
  },
  {
   "cell_type": "markdown",
   "metadata": {},
   "source": [
    "From the plot above, we can see that Leicester did not have as many saves as the other teams. This suggests that Leicester's defensive success was mostly due to solid defenders rather than a great goalkeeper. This implies that Leicester's defenders were successful in preventing opposing teams from getting a shot which required a goalkeeper's intervention."
   ]
  },
  {
   "cell_type": "markdown",
   "metadata": {},
   "source": [
    "### 4c. Possesion Numbers\n",
    "\n",
    "We are now going to look at possesion numbers, mainly possession percentages and number of passes."
   ]
  },
  {
   "cell_type": "code",
   "execution_count": 14,
   "metadata": {},
   "outputs": [
    {
     "data": {
      "image/png": "[encoded data removed]",
      "text/plain": [
       "<Figure size 432x288 with 1 Axes>"
      ]
     },
     "metadata": {
      "needs_background": "light"
     },
     "output_type": "display_data"
    }
   ],
   "source": [
    "fig, ax = plt.subplots()\n",
    "possession_df.sort_values(by=['Poss'], inplace=True)\n",
    "ax.scatter(x=possession_df['Poss'], y=possession_df['Team'])\n",
    "\n",
    "lc = possession_df[possession_df['Team'] == 'Leicester City']\n",
    "\n",
    "ax.scatter(x=lc['Poss'], y=lc['Team'], c='red')\n",
    "plt.title(\"Possession and Teams\")\n",
    "plt.xlabel(\"Poss\")\n",
    "plt.ylabel(\"Team\")\n",
    "plt.show()"
   ]
  },
  {
   "cell_type": "markdown",
   "metadata": {},
   "source": [
    "We can see from the graph that with an approximately 42% possesion, keeping the ball was not Leicester's strong points."
   ]
  },
  {
   "cell_type": "code",
   "execution_count": 16,
   "metadata": {},
   "outputs": [
    {
     "data": {
      "image/png": "[encoded data removed]",
      "text/plain": [
       "<Figure size 432x288 with 1 Axes>"
      ]
     },
     "metadata": {
      "needs_background": "light"
     },
     "output_type": "display_data"
    }
   ],
   "source": [
    "fig, ax = plt.subplots()\n",
    "extra_df.sort_values(by=['Passes (in thousands)'], inplace=True)\n",
    "ax.scatter(x=extra_df['Passes (in thousands)'], y=extra_df['Team'])\n",
    "\n",
    "lc = extra_df[extra_df['Team'] == 'Leicester City']\n",
    "\n",
    "ax.scatter(x=lc['Passes (in thousands)'], y=lc['Team'], c='red')\n",
    "plt.title(\"Total Passes (in thousands) and Teams\")\n",
    "plt.xlabel(\"Passes (in thousands)\")\n",
    "plt.ylabel(\"Team\")\n",
    "plt.show()\n"
   ]
  },
  {
   "cell_type": "markdown",
   "metadata": {},
   "source": [
    "Again, we can see that possesion was not a strength that Leiceter possessed only being able to do 13k passes throughout the season."
   ]
  },
  {
   "cell_type": "markdown",
   "metadata": {},
   "source": [
    "### Agression Numbers\n",
    "\n"
   ]
  },
  {
   "cell_type": "code",
   "execution_count": 18,
   "metadata": {},
   "outputs": [
    {
     "data": {
      "image/png": "[encoded data removed]",
      "text/plain": [
       "<Figure size 432x288 with 1 Axes>"
      ]
     },
     "metadata": {
      "needs_background": "light"
     },
     "output_type": "display_data"
    }
   ],
   "source": [
    "fig, ax = plt.subplots()\n",
    "extra_df.sort_values(by=['Tackles'], inplace=True)\n",
    "ax.scatter(x=extra_df['Tackles'], y=extra_df['Team'])\n",
    "\n",
    "lc = extra_df[extra_df['Team'] == 'Leicester City']\n",
    "\n",
    "ax.scatter(x=lc['Tackles'], y=lc['Team'], c='red')\n",
    "plt.title(\"Total Tackles and Teams\")\n",
    "plt.xlabel(\"Tackles\")\n",
    "plt.ylabel(\"Team\")\n",
    "plt.show()"
   ]
  },
  {
   "cell_type": "code",
   "execution_count": 19,
   "metadata": {},
   "outputs": [
    {
     "data": {
      "image/png": "[encoded data removed]",
      "text/plain": [
       "<Figure size 432x288 with 1 Axes>"
      ]
     },
     "metadata": {
      "needs_background": "light"
     },
     "output_type": "display_data"
    }
   ],
   "source": [
    "fig, ax = plt.subplots()\n",
    "extra_df.sort_values(by=['Yellow Cards'], inplace=True)\n",
    "ax.scatter(x=extra_df['Yellow Cards'], y=extra_df['Team'])\n",
    "\n",
    "lc = extra_df[extra_df['Team'] == 'Leicester City']\n",
    "\n",
    "ax.scatter(x=lc['Yellow Cards'], y=lc['Team'], c='red')\n",
    "plt.title(\"Total Yellow Cards and Teams\")\n",
    "plt.xlabel(\"Yellow Cards\")\n",
    "plt.ylabel(\"Team\")\n",
    "plt.show()"
   ]
  },
  {
   "cell_type": "code",
   "execution_count": 21,
   "metadata": {},
   "outputs": [
    {
     "data": {
      "image/png": "[encoded data removed]",
      "text/plain": [
       "<Figure size 432x288 with 1 Axes>"
      ]
     },
     "metadata": {
      "needs_background": "light"
     },
     "output_type": "display_data"
    }
   ],
   "source": [
    "fig, ax = plt.subplots()\n",
    "extra_df.sort_values(by=['Red Cards'], inplace=True)\n",
    "ax.scatter(x=extra_df['Red Cards'], y=extra_df['Team'])\n",
    "\n",
    "lc = extra_df[extra_df['Team'] == 'Leicester City']\n",
    "\n",
    "ax.scatter(x=lc['Red Cards'], y=lc['Team'], c='red')\n",
    "plt.title(\"Total Red Cards and Teams\")\n",
    "plt.xlabel(\"Red Cards\")\n",
    "plt.ylabel(\"Team\")\n",
    "plt.show()"
   ]
  },
  {
   "cell_type": "code",
   "execution_count": null,
   "metadata": {},
   "outputs": [],
   "source": []
  }
 ],
 "metadata": {
  "kernelspec": {
   "display_name": "Python 3",
   "language": "python",
   "name": "python3"
  },
  "language_info": {
   "codemirror_mode": {
    "name": "ipython",
    "version": 3
   },
   "file_extension": ".py",
   "mimetype": "text/x-python",
   "name": "python",
   "nbconvert_exporter": "python",
   "pygments_lexer": "ipython3",
   "version": "3.8.5"
  }
 },
 "nbformat": 4,
 "nbformat_minor": 4
}
