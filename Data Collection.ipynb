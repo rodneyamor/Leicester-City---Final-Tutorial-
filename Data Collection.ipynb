{
 "cells": [
  {
   "cell_type": "markdown",
   "metadata": {},
   "source": [
    "# Leicester Miracle\n",
    "\n",
    "## Introduction\n",
    "\n",
    "The English Premier League (EPL) is the highest level of the English football league system. Founded in 1992, the EPL quickly surged to become the most popular and the most commercially successful football league in the world. The league consists of 20 teams who compete for the league title and avoid being relegated to the second level of English football.\n",
    "\n",
    "The league boasts itself as the most competitive league in the world where any team can beat anyone. While only 6 teams, Manchester United, Manchester City, Chelsea, Arsenal, Tottenham Spurs, and Liverpool can consistently finish in the top positions, that premise still holds.\n",
    "\n",
    "Leicester City's win of the English Premier League in the 2015/16 season is one of the most remarkable events of sports history. It is one of those rare and shocking sports events where a team wins a game or a trophy even when the odds are overwhelmingly against them. In Leicester's case, they were given a 5000-to-1 chance of becoming the league champions. Their victory is even more impressive when the fact that only 5 teams have been named champions since the league's founding in 1992. Four of those teams, Manchester United, Manchester City, Chelsea, and Arsenal significantly outspend Leicester on payroll and transfers. Leicester has only about a quarter of the financial resources compared to those teams. \n",
    "\n",
    "In this tutorial, we will look at the factors that led to Leicester's league title. Did they have an unstoppable attacking, a creative midfield, or an unbreakable defense? Did they build a fortress a home or did they do well in away games? We will gather football data to determine the team's performance and where they excelled at.  "
   ]
  },
  {
   "cell_type": "markdown",
   "metadata": {},
   "source": [
    "## Getting Started\n",
    "\n",
    "Below are the libraries that we will be using"
   ]
  },
  {
   "cell_type": "code",
   "execution_count": 1,
   "metadata": {},
   "outputs": [],
   "source": [
    "import requests\n",
    "import numpy as np\n",
    "from bs4 import BeautifulSoup\n",
    "import pandas as pd\n",
    "import matplotlib.pyplot as plt\n",
    "\n",
    "#Things to talk about\n",
    "#Goals scored/game, Goals conceded/game, possesion, clean sheets, shots, shots on target\n",
    "#https://en.wikipedia.org/wiki/List_of_Leicester_City_F.C._seasons\n",
    "#Is this a one time thing or is Leicester destined for greatness?\n",
    "#Could they win the league this season?\n"
   ]
  },
  {
   "cell_type": "markdown",
   "metadata": {},
   "source": [
    "## Collecting and Tidying Up Data\n",
    "\n",
    "We will be scraping our data from various sources since most sources only cover a portion of what we need. For example, we will scrape one source for attacking data and another for defensive data as shown in the cell below."
   ]
  },
  {
   "cell_type": "markdown",
   "metadata": {},
   "source": [
    "As we can see from the table below, it contains lots NaN data. This is because of the way the table on the website was setup which caused extra columns of NaN to be created when we scraped the website. Which means that no data was missing. Also, the first two rows appears to contain the names of the respective columns. The most important data that this dataframe contains is team, win, draws, defeats, home wins, away wins, goals scored, goals conceded, goal difference, and league points."
   ]
  },
  {
   "cell_type": "code",
   "execution_count": 30,
   "metadata": {},
   "outputs": [
    {
     "name": "stdout",
     "output_type": "stream",
     "text": [
      "     0                                1    2   3     4     5     6     7   \\\n",
      "0   NaN                              NaN  NaN NaN  Home  Home  Home  Home   \n",
      "1   NaN                             Team    P NaN     W     D     L     F   \n",
      "2     C        Leicester City  Leicester   38 NaN    12     6     1    35   \n",
      "3     2                          Arsenal   38 NaN    12     4     3    31   \n",
      "4     3         Tottenham Hotspur  Spurs   38 NaN    10     6     3    35   \n",
      "5     4        Manchester City  Man City   38 NaN    12     2     5    47   \n",
      "6     5       Manchester United  Man Utd   38 NaN    12     5     2    27   \n",
      "7     6                      Southampton   38 NaN    11     3     5    39   \n",
      "8     7        West Ham United  West Ham   38 NaN     9     7     3    34   \n",
      "9     8                        Liverpool   38 NaN     8     8     3    33   \n",
      "10    9                Stoke City  Stoke   38 NaN     8     4     7    22   \n",
      "11   10                          Chelsea   38 NaN     5     9     5    32   \n",
      "12   11                          Everton   38 NaN     6     5     8    35   \n",
      "13   12            Swansea City  Swansea   38 NaN     8     6     5    20   \n",
      "14   13                          Watford   38 NaN     6     6     7    20   \n",
      "15   14  West Bromwich Albion  West Brom   38 NaN     6     5     8    20   \n",
      "16   15                   Crystal Palace   38 NaN     6     3    10    19   \n",
      "17   16                      Bournemouth   38 NaN     5     5     9    23   \n",
      "18   17                       Sunderland   38 NaN     6     6     7    23   \n",
      "19    R      Newcastle United  Newcastle   38 NaN     7     7     5    32   \n",
      "20    R            Norwich City  Norwich   38 NaN     6     5     8    26   \n",
      "21    R                      Aston Villa   38 NaN     2     5    12    14   \n",
      "\n",
      "      8   9   ...    14  15       16       17       18       19       20  21  \\\n",
      "0   Home NaN  ...  Away NaN  Overall  Overall  Overall  Overall  Overall NaN   \n",
      "1      A NaN  ...     A NaN        W        D        L        F        A NaN   \n",
      "2     18 NaN  ...    18 NaN       23       12        3       68       36 NaN   \n",
      "3     11 NaN  ...    25 NaN       20       11        7       65       36 NaN   \n",
      "4     15 NaN  ...    20 NaN       19       13        6       69       35 NaN   \n",
      "5     21 NaN  ...    20 NaN       19        9       10       71       41 NaN   \n",
      "6      9 NaN  ...    26 NaN       19        9       10       49       35 NaN   \n",
      "7     22 NaN  ...    19 NaN       18        9       11       59       41 NaN   \n",
      "8     26 NaN  ...    25 NaN       16       14        8       65       51 NaN   \n",
      "9     22 NaN  ...    28 NaN       16       12       10       63       50 NaN   \n",
      "10    24 NaN  ...    31 NaN       14        9       15       41       55 NaN   \n",
      "11    30 NaN  ...    23 NaN       12       14       12       59       53 NaN   \n",
      "12    30 NaN  ...    25 NaN       11       14       13       59       55 NaN   \n",
      "13    20 NaN  ...    32 NaN       12       11       15       42       52 NaN   \n",
      "14    19 NaN  ...    31 NaN       12        9       17       40       50 NaN   \n",
      "15    26 NaN  ...    22 NaN       10       13       15       34       48 NaN   \n",
      "16    23 NaN  ...    28 NaN       11        9       18       39       51 NaN   \n",
      "17    34 NaN  ...    33 NaN       11        9       18       45       67 NaN   \n",
      "18    20 NaN  ...    42 NaN        9       12       17       48       62 NaN   \n",
      "19    24 NaN  ...    41 NaN        9       10       19       44       65 NaN   \n",
      "20    30 NaN  ...    37 NaN        9        7       22       39       67 NaN   \n",
      "21    35 NaN  ...    41 NaN        3        8       27       27       76 NaN   \n",
      "\n",
      "     22       23  \n",
      "0   NaN      NaN  \n",
      "1    GD  PTS  PT  \n",
      "2    32       81  \n",
      "3    29       71  \n",
      "4    34       70  \n",
      "5    30       66  \n",
      "6    14       66  \n",
      "7    18       63  \n",
      "8    14       62  \n",
      "9    13       60  \n",
      "10  -14       51  \n",
      "11    6       50  \n",
      "12    4       47  \n",
      "13  -10       47  \n",
      "14  -10       45  \n",
      "15  -14       43  \n",
      "16  -12       42  \n",
      "17  -22       42  \n",
      "18  -14       39  \n",
      "19  -21       37  \n",
      "20  -28       34  \n",
      "21  -49       17  \n",
      "\n",
      "[22 rows x 24 columns]\n"
     ]
    }
   ],
   "source": [
    "#W/D/L Home, Away, and Overall\n",
    "url = 'https://www.sportsmole.co.uk/football/premier-league/2015-16//table.html'\n",
    "r = requests.get(url, headers={'User-Agent': 'Mozilla/5.0 (Macintosh; Intel Mac OS X x.y; rv:42.0) Gecko/20100101 Firefox/42.0'})\n",
    "league_data = BeautifulSoup(r.content).find('table')\n",
    "league_table = pd.read_html(league_data.prettify())\n",
    "league_df = pd.DataFrame(league_table[0])\n",
    "print(league_df)"
   ]
  },
  {
   "cell_type": "markdown",
   "metadata": {},
   "source": [
    "Here we will get rid of the first two rows. The resulting table has column names which are numbers which is not very helpful. We will have to rename these."
   ]
  },
  {
   "cell_type": "code",
   "execution_count": 31,
   "metadata": {},
   "outputs": [
    {
     "name": "stdout",
     "output_type": "stream",
     "text": [
      "   Position                             Team Home wins Away wins Total wins  \\\n",
      "0         C        Leicester City  Leicester        12        11         23   \n",
      "1         2                          Arsenal        12         8         20   \n",
      "2         3         Tottenham Hotspur  Spurs        10         9         19   \n",
      "3         4        Manchester City  Man City        12         7         19   \n",
      "4         5       Manchester United  Man Utd        12         7         19   \n",
      "5         6                      Southampton        11         7         18   \n",
      "6         7        West Ham United  West Ham         9         7         16   \n",
      "7         8                        Liverpool         8         8         16   \n",
      "8         9                Stoke City  Stoke         8         6         14   \n",
      "9        10                          Chelsea         5         7         12   \n",
      "10       11                          Everton         6         5         11   \n",
      "11       12            Swansea City  Swansea         8         4         12   \n",
      "12       13                          Watford         6         6         12   \n",
      "13       14  West Bromwich Albion  West Brom         6         4         10   \n",
      "14       15                   Crystal Palace         6         5         11   \n",
      "15       16                      Bournemouth         5         6         11   \n",
      "16       17                       Sunderland         6         3          9   \n",
      "17        R      Newcastle United  Newcastle         7         2          9   \n",
      "18        R            Norwich City  Norwich         6         3          9   \n",
      "19        R                      Aston Villa         2         1          3   \n",
      "\n",
      "   Total draws Total defeats Total goals scored Total goals conceded  \\\n",
      "0           12             3                 68                   36   \n",
      "1           11             7                 65                   36   \n",
      "2           13             6                 69                   35   \n",
      "3            9            10                 71                   41   \n",
      "4            9            10                 49                   35   \n",
      "5            9            11                 59                   41   \n",
      "6           14             8                 65                   51   \n",
      "7           12            10                 63                   50   \n",
      "8            9            15                 41                   55   \n",
      "9           14            12                 59                   53   \n",
      "10          14            13                 59                   55   \n",
      "11          11            15                 42                   52   \n",
      "12           9            17                 40                   50   \n",
      "13          13            15                 34                   48   \n",
      "14           9            18                 39                   51   \n",
      "15           9            18                 45                   67   \n",
      "16          12            17                 48                   62   \n",
      "17          10            19                 44                   65   \n",
      "18           7            22                 39                   67   \n",
      "19           8            27                 27                   76   \n",
      "\n",
      "   Goal Difference Points  \n",
      "0               32     81  \n",
      "1               29     71  \n",
      "2               34     70  \n",
      "3               30     66  \n",
      "4               14     66  \n",
      "5               18     63  \n",
      "6               14     62  \n",
      "7               13     60  \n",
      "8              -14     51  \n",
      "9                6     50  \n",
      "10               4     47  \n",
      "11             -10     47  \n",
      "12             -10     45  \n",
      "13             -14     43  \n",
      "14             -12     42  \n",
      "15             -22     42  \n",
      "16             -14     39  \n",
      "17             -21     37  \n",
      "18             -28     34  \n",
      "19             -49     17  \n"
     ]
    }
   ],
   "source": [
    "#Tidying up data\n",
    "league_df = league_df.drop([0, 1])\n",
    "league_df = league_df.reset_index(drop=True)\n",
    "league_df = league_df.dropna(how='all', axis=1)\n",
    "\n",
    "#The columns are\n",
    "#Position, Team, Games played, \n",
    "#Home wins, Home draws, Home defeats, Home goals scored, Home goals conceded,\n",
    "#Away wins, Away draws, Away defeats, Away goals scored, Away goals conceded,\n",
    "#Total wins, Total draws, Total defeats, Total goals scored, Total goals conceded,\n",
    "#Goal difference, Points\n",
    "league_df = league_df.rename(columns={0: 'Position', 1: 'Team', 2: 'Games played', \\\n",
    "                                      4: 'Home wins', 5: 'Home draws', 6: 'Home defeats', 7: 'Home goals scored', 8: 'Home goals conceded', \\\n",
    "                                      10: 'Away wins', 11: 'Away draws', 12: 'Away defeats', 13: 'Away goals scored', 14: 'Away goals conceded', \\\n",
    "                                     16: 'Total wins', 17: 'Total draws', 18: 'Total defeats', 19: 'Total goals scored', 20: 'Total goals conceded', \\\n",
    "                                     22: 'Goal Difference', 23: 'Points'})\n",
    "\n",
    "league_df = league_df.drop(columns=['Games played', 'Home draws', 'Home defeats', 'Home goals scored', 'Home goals conceded',\\\n",
    "                                   'Away draws', 'Away defeats', 'Away goals scored', 'Away goals conceded'])\n",
    "print(league_df)\n"
   ]
  },
  {
   "cell_type": "markdown",
   "metadata": {},
   "source": [
    "Like the table above, the table below also contains lots of NaN data. This is because the table from the website contains lots of missing data which we don't need. We only want the possesion percentages. Also, the first 20 rows are completely redundant."
   ]
  },
  {
   "cell_type": "code",
   "execution_count": 37,
   "metadata": {},
   "outputs": [
    {
     "name": "stdout",
     "output_type": "stream",
     "text": [
      "    Unnamed: 0_level_0 Unnamed: 1_level_0 Unnamed: 2_level_0  \\\n",
      "                 Squad               # Pl               Poss   \n",
      "0           vs Arsenal                 25               41.7   \n",
      "1       vs Aston Villa                 29               53.6   \n",
      "2       vs Bournemouth                 28               48.8   \n",
      "3           vs Chelsea                 28               43.8   \n",
      "4    vs Crystal Palace                 30               54.2   \n",
      "5           vs Everton                 31               48.1   \n",
      "6    vs Leicester City                 23               57.4   \n",
      "7         vs Liverpool                 34               42.8   \n",
      "8   vs Manchester City                 25               43.1   \n",
      "9    vs Manchester Utd                 33               41.5   \n",
      "10    vs Newcastle Utd                 31               53.4   \n",
      "11     vs Norwich City                 28               54.0   \n",
      "12      vs Southampton                 26               50.8   \n",
      "13       vs Stoke City                 27               50.3   \n",
      "14       vs Sunderland                 31               59.0   \n",
      "15     vs Swansea City                 27               47.5   \n",
      "16        vs Tottenham                 24               42.6   \n",
      "17          vs Watford                 25               54.9   \n",
      "18        vs West Brom                 28               60.2   \n",
      "19         vs West Ham                 28               51.6   \n",
      "20             Arsenal                 25               58.3   \n",
      "21         Aston Villa                 29               46.4   \n",
      "22         Bournemouth                 28               51.2   \n",
      "23             Chelsea                 28               56.2   \n",
      "24      Crystal Palace                 30               45.8   \n",
      "25             Everton                 31               51.9   \n",
      "26      Leicester City                 23               42.6   \n",
      "27           Liverpool                 34               57.2   \n",
      "28     Manchester City                 25               56.9   \n",
      "29      Manchester Utd                 33               58.5   \n",
      "30       Newcastle Utd                 31               46.6   \n",
      "31        Norwich City                 28               46.0   \n",
      "32         Southampton                 26               49.2   \n",
      "33          Stoke City                 27               49.7   \n",
      "34          Sunderland                 31               41.0   \n",
      "35        Swansea City                 27               52.5   \n",
      "36           Tottenham                 24               57.4   \n",
      "37             Watford                 25               45.1   \n",
      "38           West Brom                 28               39.8   \n",
      "39            West Ham                 28               48.4   \n",
      "\n",
      "   Unnamed: 3_level_0 Touches                                          ...  \\\n",
      "                  90s Touches Def Pen Def 3rd Mid 3rd Att 3rd Att Pen  ...   \n",
      "0                38.0     NaN     NaN     NaN     NaN     NaN     NaN  ...   \n",
      "1                38.0     NaN     NaN     NaN     NaN     NaN     NaN  ...   \n",
      "2                38.0     NaN     NaN     NaN     NaN     NaN     NaN  ...   \n",
      "3                38.0     NaN     NaN     NaN     NaN     NaN     NaN  ...   \n",
      "4                38.0     NaN     NaN     NaN     NaN     NaN     NaN  ...   \n",
      "5                38.0     NaN     NaN     NaN     NaN     NaN     NaN  ...   \n",
      "6                38.0     NaN     NaN     NaN     NaN     NaN     NaN  ...   \n",
      "7                38.0     NaN     NaN     NaN     NaN     NaN     NaN  ...   \n",
      "8                38.0     NaN     NaN     NaN     NaN     NaN     NaN  ...   \n",
      "9                38.0     NaN     NaN     NaN     NaN     NaN     NaN  ...   \n",
      "10               38.0     NaN     NaN     NaN     NaN     NaN     NaN  ...   \n",
      "11               38.0     NaN     NaN     NaN     NaN     NaN     NaN  ...   \n",
      "12               38.0     NaN     NaN     NaN     NaN     NaN     NaN  ...   \n",
      "13               38.0     NaN     NaN     NaN     NaN     NaN     NaN  ...   \n",
      "14               38.0     NaN     NaN     NaN     NaN     NaN     NaN  ...   \n",
      "15               38.0     NaN     NaN     NaN     NaN     NaN     NaN  ...   \n",
      "16               38.0     NaN     NaN     NaN     NaN     NaN     NaN  ...   \n",
      "17               38.0     NaN     NaN     NaN     NaN     NaN     NaN  ...   \n",
      "18               38.0     NaN     NaN     NaN     NaN     NaN     NaN  ...   \n",
      "19               38.0     NaN     NaN     NaN     NaN     NaN     NaN  ...   \n",
      "20               38.0     NaN     NaN     NaN     NaN     NaN     NaN  ...   \n",
      "21               38.0     NaN     NaN     NaN     NaN     NaN     NaN  ...   \n",
      "22               38.0     NaN     NaN     NaN     NaN     NaN     NaN  ...   \n",
      "23               38.0     NaN     NaN     NaN     NaN     NaN     NaN  ...   \n",
      "24               38.0     NaN     NaN     NaN     NaN     NaN     NaN  ...   \n",
      "25               38.0     NaN     NaN     NaN     NaN     NaN     NaN  ...   \n",
      "26               38.0     NaN     NaN     NaN     NaN     NaN     NaN  ...   \n",
      "27               38.0     NaN     NaN     NaN     NaN     NaN     NaN  ...   \n",
      "28               38.0     NaN     NaN     NaN     NaN     NaN     NaN  ...   \n",
      "29               38.0     NaN     NaN     NaN     NaN     NaN     NaN  ...   \n",
      "30               38.0     NaN     NaN     NaN     NaN     NaN     NaN  ...   \n",
      "31               38.0     NaN     NaN     NaN     NaN     NaN     NaN  ...   \n",
      "32               38.0     NaN     NaN     NaN     NaN     NaN     NaN  ...   \n",
      "33               38.0     NaN     NaN     NaN     NaN     NaN     NaN  ...   \n",
      "34               38.0     NaN     NaN     NaN     NaN     NaN     NaN  ...   \n",
      "35               38.0     NaN     NaN     NaN     NaN     NaN     NaN  ...   \n",
      "36               38.0     NaN     NaN     NaN     NaN     NaN     NaN  ...   \n",
      "37               38.0     NaN     NaN     NaN     NaN     NaN     NaN  ...   \n",
      "38               38.0     NaN     NaN     NaN     NaN     NaN     NaN  ...   \n",
      "39               38.0     NaN     NaN     NaN     NaN     NaN     NaN  ...   \n",
      "\n",
      "   Dribbles      Carries                 Receiving           \\\n",
      "        #Pl Megs Carries TotDist PrgDist      Targ Rec Rec%   \n",
      "0       NaN  NaN     NaN     NaN     NaN       NaN NaN  NaN   \n",
      "1       NaN  NaN     NaN     NaN     NaN       NaN NaN  NaN   \n",
      "2       NaN  NaN     NaN     NaN     NaN       NaN NaN  NaN   \n",
      "3       NaN  NaN     NaN     NaN     NaN       NaN NaN  NaN   \n",
      "4       NaN  NaN     NaN     NaN     NaN       NaN NaN  NaN   \n",
      "5       NaN  NaN     NaN     NaN     NaN       NaN NaN  NaN   \n",
      "6       NaN  NaN     NaN     NaN     NaN       NaN NaN  NaN   \n",
      "7       NaN  NaN     NaN     NaN     NaN       NaN NaN  NaN   \n",
      "8       NaN  NaN     NaN     NaN     NaN       NaN NaN  NaN   \n",
      "9       NaN  NaN     NaN     NaN     NaN       NaN NaN  NaN   \n",
      "10      NaN  NaN     NaN     NaN     NaN       NaN NaN  NaN   \n",
      "11      NaN  NaN     NaN     NaN     NaN       NaN NaN  NaN   \n",
      "12      NaN  NaN     NaN     NaN     NaN       NaN NaN  NaN   \n",
      "13      NaN  NaN     NaN     NaN     NaN       NaN NaN  NaN   \n",
      "14      NaN  NaN     NaN     NaN     NaN       NaN NaN  NaN   \n",
      "15      NaN  NaN     NaN     NaN     NaN       NaN NaN  NaN   \n",
      "16      NaN  NaN     NaN     NaN     NaN       NaN NaN  NaN   \n",
      "17      NaN  NaN     NaN     NaN     NaN       NaN NaN  NaN   \n",
      "18      NaN  NaN     NaN     NaN     NaN       NaN NaN  NaN   \n",
      "19      NaN  NaN     NaN     NaN     NaN       NaN NaN  NaN   \n",
      "20      NaN  NaN     NaN     NaN     NaN       NaN NaN  NaN   \n",
      "21      NaN  NaN     NaN     NaN     NaN       NaN NaN  NaN   \n",
      "22      NaN  NaN     NaN     NaN     NaN       NaN NaN  NaN   \n",
      "23      NaN  NaN     NaN     NaN     NaN       NaN NaN  NaN   \n",
      "24      NaN  NaN     NaN     NaN     NaN       NaN NaN  NaN   \n",
      "25      NaN  NaN     NaN     NaN     NaN       NaN NaN  NaN   \n",
      "26      NaN  NaN     NaN     NaN     NaN       NaN NaN  NaN   \n",
      "27      NaN  NaN     NaN     NaN     NaN       NaN NaN  NaN   \n",
      "28      NaN  NaN     NaN     NaN     NaN       NaN NaN  NaN   \n",
      "29      NaN  NaN     NaN     NaN     NaN       NaN NaN  NaN   \n",
      "30      NaN  NaN     NaN     NaN     NaN       NaN NaN  NaN   \n",
      "31      NaN  NaN     NaN     NaN     NaN       NaN NaN  NaN   \n",
      "32      NaN  NaN     NaN     NaN     NaN       NaN NaN  NaN   \n",
      "33      NaN  NaN     NaN     NaN     NaN       NaN NaN  NaN   \n",
      "34      NaN  NaN     NaN     NaN     NaN       NaN NaN  NaN   \n",
      "35      NaN  NaN     NaN     NaN     NaN       NaN NaN  NaN   \n",
      "36      NaN  NaN     NaN     NaN     NaN       NaN NaN  NaN   \n",
      "37      NaN  NaN     NaN     NaN     NaN       NaN NaN  NaN   \n",
      "38      NaN  NaN     NaN     NaN     NaN       NaN NaN  NaN   \n",
      "39      NaN  NaN     NaN     NaN     NaN       NaN NaN  NaN   \n",
      "\n",
      "   Unnamed: 22_level_0 Unnamed: 23_level_0  \n",
      "                Miscon              Dispos  \n",
      "0                  NaN                 NaN  \n",
      "1                  NaN                 NaN  \n",
      "2                  NaN                 NaN  \n",
      "3                  NaN                 NaN  \n",
      "4                  NaN                 NaN  \n",
      "5                  NaN                 NaN  \n",
      "6                  NaN                 NaN  \n",
      "7                  NaN                 NaN  \n",
      "8                  NaN                 NaN  \n",
      "9                  NaN                 NaN  \n",
      "10                 NaN                 NaN  \n",
      "11                 NaN                 NaN  \n",
      "12                 NaN                 NaN  \n",
      "13                 NaN                 NaN  \n",
      "14                 NaN                 NaN  \n",
      "15                 NaN                 NaN  \n",
      "16                 NaN                 NaN  \n",
      "17                 NaN                 NaN  \n",
      "18                 NaN                 NaN  \n",
      "19                 NaN                 NaN  \n",
      "20                 NaN                 NaN  \n",
      "21                 NaN                 NaN  \n",
      "22                 NaN                 NaN  \n",
      "23                 NaN                 NaN  \n",
      "24                 NaN                 NaN  \n",
      "25                 NaN                 NaN  \n",
      "26                 NaN                 NaN  \n",
      "27                 NaN                 NaN  \n",
      "28                 NaN                 NaN  \n",
      "29                 NaN                 NaN  \n",
      "30                 NaN                 NaN  \n",
      "31                 NaN                 NaN  \n",
      "32                 NaN                 NaN  \n",
      "33                 NaN                 NaN  \n",
      "34                 NaN                 NaN  \n",
      "35                 NaN                 NaN  \n",
      "36                 NaN                 NaN  \n",
      "37                 NaN                 NaN  \n",
      "38                 NaN                 NaN  \n",
      "39                 NaN                 NaN  \n",
      "\n",
      "[40 rows x 24 columns]\n"
     ]
    }
   ],
   "source": [
    "#posession\n",
    "url = 'https://fbref.com/en/comps/9/1467/possession/2015-2016-Premier-League-Stats'\n",
    "r = requests.get(url, headers={'User-Agent': 'Mozilla/5.0 (Macintosh; Intel Mac OS X 10_10_1) AppleWebKit/537.36 (KHTML, like Gecko) Chrome/39.0.2171.95 Safari/537.36'})\n",
    "data = BeautifulSoup(r.content).find('table')\n",
    "table = pd.read_html(data.prettify())\n",
    "possession_df = pd.DataFrame(table[0])\n",
    "print(possession_df)"
   ]
  },
  {
   "cell_type": "markdown",
   "metadata": {},
   "source": [
    "Here we will remove the first 20 rows and all columns with NaN and redundant info."
   ]
  },
  {
   "cell_type": "code",
   "execution_count": 38,
   "metadata": {},
   "outputs": [
    {
     "name": "stdout",
     "output_type": "stream",
     "text": [
      "               Team  Poss\n",
      "0           Arsenal  58.3\n",
      "1       Aston Villa  46.4\n",
      "2       Bournemouth  51.2\n",
      "3           Chelsea  56.2\n",
      "4    Crystal Palace  45.8\n",
      "5           Everton  51.9\n",
      "6    Leicester City  42.6\n",
      "7         Liverpool  57.2\n",
      "8   Manchester City  56.9\n",
      "9    Manchester Utd  58.5\n",
      "10    Newcastle Utd  46.6\n",
      "11     Norwich City  46.0\n",
      "12      Southampton  49.2\n",
      "13       Stoke City  49.7\n",
      "14       Sunderland  41.0\n",
      "15     Swansea City  52.5\n",
      "16        Tottenham  57.4\n",
      "17          Watford  45.1\n",
      "18        West Brom  39.8\n",
      "19         West Ham  48.4\n"
     ]
    }
   ],
   "source": [
    "#removing the first two rows\n",
    "possession_df = possession_df.drop([0, 1])\n",
    "possession_df = possession_df.reset_index(drop=True)\n",
    "possession_df = possession_df.dropna(how='all', axis=1)\n",
    "\n",
    "#removing redundant rows\n",
    "possession_df = possession_df.drop(possession_df.index[0:18])\n",
    "possession_df = possession_df.reset_index(drop=True)\n",
    "\n",
    "#renaming the columns\n",
    "possession_df.columns = possession_df.columns.get_level_values(1)\n",
    "possession_df = possession_df.rename(columns={'Squad': 'Team'})\n",
    "\n",
    "#removing redundany column\n",
    "possession_df = possession_df.drop(columns=['# Pl', '90s'])\n",
    "\n",
    "print(possession_df)"
   ]
  },
  {
   "cell_type": "markdown",
   "metadata": {},
   "source": [
    "The table below contains defensive stats. The most important data from this table is clean sheets."
   ]
  },
  {
   "cell_type": "code",
   "execution_count": 22,
   "metadata": {},
   "outputs": [
    {
     "name": "stdout",
     "output_type": "stream",
     "text": [
      "       0                     1              2             3             4\n",
      "0    NaN                  Team  Goals against  Avg per game  Clean Sheets\n",
      "1    1.0     Manchester United             35          0.92            18\n",
      "2    2.0     Tottenham Hotspur             35          0.92            13\n",
      "3    3.0               Arsenal             36          0.95            18\n",
      "4    4.0        Leicester City             36          0.95            15\n",
      "5    5.0       Manchester City             41          1.08            16\n",
      "6    6.0           Southampton             41          1.08            12\n",
      "7    7.0  West Bromwich Albion             48          1.26            11\n",
      "8    8.0             Liverpool             50          1.32            11\n",
      "9    9.0               Watford             50          1.32            11\n",
      "10  10.0        Crystal Palace             51          1.34             8\n",
      "11  11.0       West Ham United             51          1.34            11\n",
      "12  12.0          Swansea City             52          1.37             9\n",
      "13  13.0               Chelsea             53          1.39             9\n",
      "14  14.0               Everton             55          1.45            10\n",
      "15  15.0            Stoke City             55          1.45            10\n",
      "16  16.0            Sunderland             62          1.63             7\n",
      "17  17.0      Newcastle United             65          1.71             8\n",
      "18  18.0           Bournemouth             67          1.76             7\n",
      "19  19.0          Norwich City             67          1.76             5\n",
      "20  20.0           Aston Villa             76          2.00             6\n"
     ]
    }
   ],
   "source": [
    "#Defensive stats\n",
    "#Goal against, goal against / game, clean sheets\n",
    "url = 'https://www.sportsmole.co.uk/football/premier-league/2015-16/best-defence.html'\n",
    "r = requests.get(url, headers={'User-Agent': 'Mozilla/5.0 (Macintosh; Intel Mac OS X 10_10_1) AppleWebKit/537.36 (KHTML, like Gecko) Chrome/39.0.2171.95 Safari/537.36'})\n",
    "defensive_data = BeautifulSoup(r.content).find('table')\n",
    "defensive_table = pd.read_html(defensive_data.prettify())\n",
    "defensive_df = pd.DataFrame(defensive_table[0])\n",
    "print(defensive_df)"
   ]
  },
  {
   "cell_type": "markdown",
   "metadata": {},
   "source": [
    "As we can see from this table, the first row is contains the name of the columns while the column names themeselves are numbers. We will have to rename the columns and remove the first row."
   ]
  },
  {
   "cell_type": "code",
   "execution_count": 39,
   "metadata": {},
   "outputs": [
    {
     "name": "stdout",
     "output_type": "stream",
     "text": [
      "                    Team Goals against Goals conceded per game Clean sheets\n",
      "0      Manchester United            35                    0.92           18\n",
      "1      Tottenham Hotspur            35                    0.92           13\n",
      "2                Arsenal            36                    0.95           18\n",
      "3         Leicester City            36                    0.95           15\n",
      "4        Manchester City            41                    1.08           16\n",
      "5            Southampton            41                    1.08           12\n",
      "6   West Bromwich Albion            48                    1.26           11\n",
      "7              Liverpool            50                    1.32           11\n",
      "8                Watford            50                    1.32           11\n",
      "9         Crystal Palace            51                    1.34            8\n",
      "10       West Ham United            51                    1.34           11\n",
      "11          Swansea City            52                    1.37            9\n",
      "12               Chelsea            53                    1.39            9\n",
      "13               Everton            55                    1.45           10\n",
      "14            Stoke City            55                    1.45           10\n",
      "15            Sunderland            62                    1.63            7\n",
      "16      Newcastle United            65                    1.71            8\n",
      "17           Bournemouth            67                    1.76            7\n",
      "18          Norwich City            67                    1.76            5\n",
      "19           Aston Villa            76                    2.00            6\n"
     ]
    }
   ],
   "source": [
    "#drop first row\n",
    "defensive_df = defensive_df.drop([0])\n",
    "defensive_df = defensive_df.reset_index(drop=True)\n",
    "\n",
    "#renaming the columns\n",
    "defensive_df = defensive_df.drop(columns=[0])\n",
    "defensive_df = defensive_df.rename(columns={1: 'Team', 2: 'Goals against', 3: 'Goals conceded per game', 4: 'Clean sheets'})\n",
    "\n",
    "print(defensive_df)"
   ]
  },
  {
   "cell_type": "markdown",
   "metadata": {},
   "source": [
    "The Premier League website contains most the data that we need. However, it is difficult to get the data from the 2015/16 season using simple web scrapping methods since the website doesn't appear to be static. Rather, it appears that the data is loaded from a server which always defaults into the 2020/21 season. Since we already have most of the data we need from website scrapping, we will copy the rest of what we need from the Premier League website into an excel file and convert that into a CSV file. \n",
    "\n",
    "This table contains number of passes, saves, shots, tackles, yellow cards, and red cards."
   ]
  },
  {
   "cell_type": "code",
   "execution_count": 41,
   "metadata": {},
   "outputs": [
    {
     "data": {
      "text/html": [
       "<div>\n",
       "<style scoped>\n",
       "    .dataframe tbody tr th:only-of-type {\n",
       "        vertical-align: middle;\n",
       "    }\n",
       "\n",
       "    .dataframe tbody tr th {\n",
       "        vertical-align: top;\n",
       "    }\n",
       "\n",
       "    .dataframe thead th {\n",
       "        text-align: right;\n",
       "    }\n",
       "</style>\n",
       "<table border=\"1\" class=\"dataframe\">\n",
       "  <thead>\n",
       "    <tr style=\"text-align: right;\">\n",
       "      <th></th>\n",
       "      <th>Team</th>\n",
       "      <th>Passes</th>\n",
       "      <th>Shots</th>\n",
       "      <th>Saves</th>\n",
       "      <th>Tackles</th>\n",
       "      <th>Yellow Cards</th>\n",
       "      <th>Red Cards</th>\n",
       "    </tr>\n",
       "  </thead>\n",
       "  <tbody>\n",
       "    <tr>\n",
       "      <th>0</th>\n",
       "      <td>Arsenal</td>\n",
       "      <td>21,249</td>\n",
       "      <td>571</td>\n",
       "      <td>118</td>\n",
       "      <td>709</td>\n",
       "      <td>40</td>\n",
       "      <td>4</td>\n",
       "    </tr>\n",
       "    <tr>\n",
       "      <th>1</th>\n",
       "      <td>Manchester City</td>\n",
       "      <td>20,488</td>\n",
       "      <td>615</td>\n",
       "      <td>86</td>\n",
       "      <td>729</td>\n",
       "      <td>61</td>\n",
       "      <td>0</td>\n",
       "    </tr>\n",
       "    <tr>\n",
       "      <th>2</th>\n",
       "      <td>Manchester United</td>\n",
       "      <td>20,070</td>\n",
       "      <td>430</td>\n",
       "      <td>90</td>\n",
       "      <td>760</td>\n",
       "      <td>65</td>\n",
       "      <td>1</td>\n",
       "    </tr>\n",
       "    <tr>\n",
       "      <th>3</th>\n",
       "      <td>Liverpool</td>\n",
       "      <td>19,733</td>\n",
       "      <td>629</td>\n",
       "      <td>81</td>\n",
       "      <td>871</td>\n",
       "      <td>61</td>\n",
       "      <td>3</td>\n",
       "    </tr>\n",
       "    <tr>\n",
       "      <th>4</th>\n",
       "      <td>Chelsea</td>\n",
       "      <td>19,664</td>\n",
       "      <td>526</td>\n",
       "      <td>122</td>\n",
       "      <td>790</td>\n",
       "      <td>58</td>\n",
       "      <td>5</td>\n",
       "    </tr>\n",
       "  </tbody>\n",
       "</table>\n",
       "</div>"
      ],
      "text/plain": [
       "                Team  Passes  Shots  Saves  Tackles  Yellow Cards  Red Cards\n",
       "0            Arsenal  21,249    571    118      709            40          4\n",
       "1    Manchester City  20,488    615     86      729            61          0\n",
       "2  Manchester United  20,070    430     90      760            65          1\n",
       "3          Liverpool  19,733    629     81      871            61          3\n",
       "4            Chelsea  19,664    526    122      790            58          5"
      ]
     },
     "execution_count": 41,
     "metadata": {},
     "output_type": "execute_result"
    }
   ],
   "source": [
    "extra_df = pd.read_csv(\"premier_league_stats.csv\") \n",
    "extra_df.head()"
   ]
  },
  {
   "cell_type": "markdown",
   "metadata": {},
   "source": [
    "In order to organize our data, we will have different dataframes for each portion of the data. Thankfully, our data is already organized since we are already scrapping different websites for each portion of what we need. Each website will have its own dataframe. "
   ]
  },
  {
   "cell_type": "markdown",
   "metadata": {},
   "source": [
    "## Exploratory Analysis and Data Visualization"
   ]
  },
  {
   "cell_type": "code",
   "execution_count": 7,
   "metadata": {},
   "outputs": [
    {
     "data": {
      "image/png": "[encoded data removed]",
      "text/plain": [
       "<Figure size 432x288 with 1 Axes>"
      ]
     },
     "metadata": {
      "needs_background": "light"
     },
     "output_type": "display_data"
    }
   ],
   "source": [
    "#confirm that Leicester is the winning team\n",
    "fig, ax = plt.subplots()\n",
    "#What are you doing in the line below?\n",
    "league_df.sort_values(by=['Points'], inplace=True)\n",
    "ax.scatter(x=league_df['Points'], y=league_df['Team'])\n",
    "\n",
    "lc = league_df[league_df['Team'] == 'Leicester City  Leicester']\n",
    "\n",
    "ax.scatter(x=lc['Points'], y=lc['Team'], c='red')\n",
    "plt.title(\"Points and Teams\")\n",
    "plt.xlabel(\"Points\")\n",
    "plt.ylabel(\"Team\")\n",
    "plt.show()"
   ]
  },
  {
   "cell_type": "code",
   "execution_count": 8,
   "metadata": {},
   "outputs": [
    {
     "data": {
      "image/png": "[encoded data removed]",
      "text/plain": [
       "<Figure size 432x288 with 1 Axes>"
      ]
     },
     "metadata": {
      "needs_background": "light"
     },
     "output_type": "display_data"
    }
   ],
   "source": [
    "#Check number of goals scored\n",
    "fig, ax = plt.subplots()\n",
    "league_df.sort_values(by=['Total goals scored'], inplace=True)\n",
    "ax.scatter(x=league_df['Total goals scored'], y=league_df['Team'])\n",
    "\n",
    "lc = league_df[league_df['Team'] == 'Leicester City  Leicester']\n",
    "\n",
    "ax.scatter(x=lc['Total goals scored'], y=lc['Team'], c='red')\n",
    "plt.title(\"Total Goals Scored and Teams\")\n",
    "plt.xlabel(\"Total Goals Scored\")\n",
    "plt.ylabel(\"Team\")\n",
    "plt.show()"
   ]
  },
  {
   "cell_type": "code",
   "execution_count": 9,
   "metadata": {},
   "outputs": [
    {
     "data": {
      "image/png": "[encoded data removed]",
      "text/plain": [
       "<Figure size 432x288 with 1 Axes>"
      ]
     },
     "metadata": {
      "needs_background": "light"
     },
     "output_type": "display_data"
    }
   ],
   "source": [
    "#Check number of goals scored\n",
    "fig, ax = plt.subplots()\n",
    "league_df.sort_values(by=['Total goals conceded'], inplace=True)\n",
    "ax.scatter(x=league_df['Total goals conceded'], y=league_df['Team'])\n",
    "\n",
    "lc = league_df[league_df['Team'] == 'Leicester City  Leicester']\n",
    "\n",
    "ax.scatter(x=lc['Total goals conceded'], y=lc['Team'], c='red')\n",
    "plt.title(\"Total Goals Conceded and Teams\")\n",
    "plt.xlabel(\"Total Goals Conceded\")\n",
    "plt.ylabel(\"Team\")\n",
    "plt.show()"
   ]
  },
  {
   "cell_type": "code",
   "execution_count": 10,
   "metadata": {},
   "outputs": [
    {
     "data": {
      "image/png": "[encoded data removed]",
      "text/plain": [
       "<Figure size 432x288 with 1 Axes>"
      ]
     },
     "metadata": {
      "needs_background": "light"
     },
     "output_type": "display_data"
    }
   ],
   "source": [
    "#Defense\n",
    "#league_df['Goal Difference'] is a string, needs to be an int or it will mess with the graph\n",
    "for index, row in league_df.iterrows():\n",
    "    league_df['Goal Difference'][index] = int(row['Goal Difference'])\n",
    "fig, ax = plt.subplots()\n",
    "league_df.sort_values(by=['Goal Difference'], inplace=True)\n",
    "ax.scatter(x=league_df['Goal Difference'], y=league_df['Team'])\n",
    "\n",
    "lc = league_df[league_df['Team'] == 'Leicester City  Leicester']\n",
    "\n",
    "ax.scatter(x=lc['Goal Difference'], y=lc['Team'], c='red')\n",
    "plt.title(\"Goal Difference and Teams\")\n",
    "plt.xlabel(\"Goal Difference\")\n",
    "plt.ylabel(\"Team\")\n",
    "plt.show()"
   ]
  },
  {
   "cell_type": "code",
   "execution_count": 42,
   "metadata": {},
   "outputs": [
    {
     "name": "stdout",
     "output_type": "stream",
     "text": [
      "                    Team  Shots\n",
      "0                Arsenal    571\n",
      "1        Manchester City    615\n",
      "2      Manchester United    430\n",
      "3              Liverpool    629\n",
      "4                Chelsea    526\n",
      "5      Tottenham Hotspur    659\n",
      "6           Swansea City    441\n",
      "7                Everton    491\n",
      "8        AFC Bournemouth    464\n",
      "9             Stoke City    419\n",
      "10           Southampton    519\n",
      "11           Aston Villa    380\n",
      "12      Newcastle United    397\n",
      "13       West Ham United    558\n",
      "14               Watford    446\n",
      "15          Norwich City    418\n",
      "16        Crystal Palace    469\n",
      "17        Leicester City    522\n",
      "18            Sunderland    439\n",
      "19  West Bromwich Albion    388\n"
     ]
    }
   ],
   "source": [
    "#adding extra data to the other dataframes\n",
    "atk_dict = {'Team': extra_df['Team'], 'Shots': extra_df['Shots']}\n",
    "attacking_df = pd.DataFrame(atk_dict)\n",
    "print(attacking_df)"
   ]
  },
  {
   "cell_type": "code",
   "execution_count": null,
   "metadata": {},
   "outputs": [],
   "source": []
  }
 ],
 "metadata": {
  "kernelspec": {
   "display_name": "Python 3",
   "language": "python",
   "name": "python3"
  },
  "language_info": {
   "codemirror_mode": {
    "name": "ipython",
    "version": 3
   },
   "file_extension": ".py",
   "mimetype": "text/x-python",
   "name": "python",
   "nbconvert_exporter": "python",
   "pygments_lexer": "ipython3",
   "version": "3.8.5"
  }
 },
 "nbformat": 4,
 "nbformat_minor": 4
}
