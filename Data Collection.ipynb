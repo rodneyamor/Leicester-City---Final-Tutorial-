{
 "cells": [
  {
   "cell_type": "code",
   "execution_count": 139,
   "metadata": {},
   "outputs": [],
   "source": [
    "import requests\n",
    "import numpy as np\n",
    "from bs4 import BeautifulSoup\n",
    "import pandas as pd\n",
    "\n",
    "url = 'https://www.sportsmole.co.uk/football/premier-league/2015-16//table.html'\n",
    "r = requests.get(url, headers={'User-Agent': 'Mozilla/5.0 (Macintosh; Intel Mac OS X x.y; rv:42.0) Gecko/20100101 Firefox/42.0'})"
   ]
  },
  {
   "cell_type": "code",
   "execution_count": 174,
   "metadata": {},
   "outputs": [
    {
     "name": "stdout",
     "output_type": "stream",
     "text": [
      "   Position                             Team   2   4  5   6   7   8  10 11  \\\n",
      "0         C        Leicester City  Leicester  38  12  6   1  35  18  11  6   \n",
      "1         2                          Arsenal  38  12  4   3  31  11   8  7   \n",
      "2         3         Tottenham Hotspur  Spurs  38  10  6   3  35  15   9  7   \n",
      "3         4        Manchester City  Man City  38  12  2   5  47  21   7  7   \n",
      "4         5       Manchester United  Man Utd  38  12  5   2  27   9   7  4   \n",
      "5         6                      Southampton  38  11  3   5  39  22   7  6   \n",
      "6         7        West Ham United  West Ham  38   9  7   3  34  26   7  7   \n",
      "7         8                        Liverpool  38   8  8   3  33  22   8  4   \n",
      "8         9                Stoke City  Stoke  38   8  4   7  22  24   6  5   \n",
      "9        10                          Chelsea  38   5  9   5  32  30   7  5   \n",
      "10       11                          Everton  38   6  5   8  35  30   5  9   \n",
      "11       12            Swansea City  Swansea  38   8  6   5  20  20   4  5   \n",
      "12       13                          Watford  38   6  6   7  20  19   6  3   \n",
      "13       14  West Bromwich Albion  West Brom  38   6  5   8  20  26   4  8   \n",
      "14       15                   Crystal Palace  38   6  3  10  19  23   5  6   \n",
      "15       16                      Bournemouth  38   5  5   9  23  34   6  4   \n",
      "16       17                       Sunderland  38   6  6   7  23  20   3  6   \n",
      "17        R      Newcastle United  Newcastle  38   7  7   5  32  24   2  3   \n",
      "18        R            Norwich City  Norwich  38   6  5   8  26  30   3  2   \n",
      "19        R                      Aston Villa  38   2  5  12  14  35   1  3   \n",
      "\n",
      "    12  13  14  16  17  18  19  20   22  23  \n",
      "0    2  33  18  23  12   3  68  36   32  81  \n",
      "1    4  34  25  20  11   7  65  36   29  71  \n",
      "2    3  34  20  19  13   6  69  35   34  70  \n",
      "3    5  24  20  19   9  10  71  41   30  66  \n",
      "4    8  22  26  19   9  10  49  35   14  66  \n",
      "5    6  20  19  18   9  11  59  41   18  63  \n",
      "6    5  31  25  16  14   8  65  51   14  62  \n",
      "7    7  30  28  16  12  10  63  50   13  60  \n",
      "8    8  19  31  14   9  15  41  55  -14  51  \n",
      "9    7  27  23  12  14  12  59  53    6  50  \n",
      "10   5  24  25  11  14  13  59  55    4  47  \n",
      "11  10  22  32  12  11  15  42  52  -10  47  \n",
      "12  10  20  31  12   9  17  40  50  -10  45  \n",
      "13   7  14  22  10  13  15  34  48  -14  43  \n",
      "14   8  20  28  11   9  18  39  51  -12  42  \n",
      "15   9  22  33  11   9  18  45  67  -22  42  \n",
      "16  10  25  42   9  12  17  48  62  -14  39  \n",
      "17  14  12  41   9  10  19  44  65  -21  37  \n",
      "18  14  13  37   9   7  22  39  67  -28  34  \n",
      "19  15  13  41   3   8  27  27  76  -49  17  \n"
     ]
    }
   ],
   "source": [
    "#W/D/L Home, Away, and Overall\n",
    "league_data = BeautifulSoup(r.content).find('table')\n",
    "league_table = pd.read_html(league_data.prettify())\n",
    "league_df = pd.DataFrame(league_table[0])\n",
    "\n",
    "#This tables has entire columns of NaN. This is not missing data.\n",
    "#Columns seemed to have been added when interpreting the table. We will remove all NaN.\n",
    "#Removing the first row because it is redundant\n",
    "league_df = league_df.drop([0, 1])\n",
    "league_df = league_df.reset_index(drop=True)\n",
    "\n",
    "#Here we will find which columns have NaN and delete them \n",
    "columns_to_remove = []\n",
    "for col in league_df.iteritems():\n",
    "    #col is a tuple\n",
    "    #(column name, Series list)\n",
    "    if col[1].isnull().values.any():\n",
    "        columns_to_remove.append(col[0])\n",
    "league_df = league_df.drop(columns=columns_to_remove)\n",
    "#print(league_df)\n",
    "\n",
    "#Here we will rename the columns because currently they are not helpful\n",
    "#The columns are\n",
    "#Position, Team, Games played, Home wins, Home draws, Home defeats, Home goals scored, Home goals conceded, Home goal difference,\n",
    "#\n",
    "league_df = league_df.rename(columns={0: 'Position', 1: 'Team'})\n",
    "print(league_df)"
   ]
  },
  {
   "cell_type": "code",
   "execution_count": null,
   "metadata": {},
   "outputs": [],
   "source": []
  },
  {
   "cell_type": "code",
   "execution_count": null,
   "metadata": {},
   "outputs": [],
   "source": []
  }
 ],
 "metadata": {
  "kernelspec": {
   "display_name": "Python 3",
   "language": "python",
   "name": "python3"
  },
  "language_info": {
   "codemirror_mode": {
    "name": "ipython",
    "version": 3
   },
   "file_extension": ".py",
   "mimetype": "text/x-python",
   "name": "python",
   "nbconvert_exporter": "python",
   "pygments_lexer": "ipython3",
   "version": "3.8.5"
  }
 },
 "nbformat": 4,
 "nbformat_minor": 4
}
